{
 "cells": [
  {
   "cell_type": "code",
   "execution_count": null,
   "id": "8070270c",
   "metadata": {},
   "outputs": [
    {
     "ename": "",
     "evalue": "",
     "output_type": "error",
     "traceback": [
      "\u001b[1;31mRunning cells with 'tfg (Python 3.8.10)' requires the ipykernel package.\n",
      "\u001b[1;31mInstall 'ipykernel' into the Python environment. \n",
      "\u001b[1;31mCommand: '/ghome/debora/Francesca/Code/tfg/bin/python -m pip install ipykernel -U --force-reinstall'"
     ]
    }
   ],
   "source": [
    "import pandas as pd\n",
    "from typing import *\n",
    "import numpy as np\n",
    "from itertools import chain\n",
    "import random\n",
    "import torch\n",
    "from torch.utils.data import DataLoader\n",
    "from sklearn.model_selection import train_test_split\n",
    "\n",
    "from models.transformer import Transformer, TransformerSeparated\n",
    "\n",
    "from dataset.splitter import split\n",
    "from trainer import Trainer\n",
    "from models.base_model import BaseModel\n",
    "import sys"
   ]
  },
  {
   "cell_type": "code",
   "execution_count": 24,
   "id": "6a2673fb",
   "metadata": {},
   "outputs": [
    {
     "name": "stdout",
     "output_type": "stream",
     "text": [
      "cuda\n"
     ]
    },
    {
     "data": {
      "text/plain": [
       "'2.7.0+cu118'"
      ]
     },
     "execution_count": 24,
     "metadata": {},
     "output_type": "execute_result"
    }
   ],
   "source": [
    "import torch\n",
    "\n",
    "# Verificar si la GPU está disponible\n",
    "device = torch.device(\"cuda\" if torch.cuda.is_available() else \"cpu\")\n",
    "\n",
    "# Crear un tensor y moverlo a la GPU (si disponible)\n",
    "tensor = torch.randn(3, 3)\n",
    "tensor = tensor.to(device)  # Mover tensor a la GPU si CUDA está disponible\n",
    "print(device)\n",
    "torch.__version__\n"
   ]
  },
  {
   "cell_type": "code",
   "execution_count": 25,
   "id": "3b7fc11b",
   "metadata": {},
   "outputs": [
    {
     "data": {
      "text/html": [
       "<div>\n",
       "<style scoped>\n",
       "    .dataframe tbody tr th:only-of-type {\n",
       "        vertical-align: middle;\n",
       "    }\n",
       "\n",
       "    .dataframe tbody tr th {\n",
       "        vertical-align: top;\n",
       "    }\n",
       "\n",
       "    .dataframe thead th {\n",
       "        text-align: right;\n",
       "    }\n",
       "</style>\n",
       "<table border=\"1\" class=\"dataframe\">\n",
       "  <thead>\n",
       "    <tr style=\"text-align: right;\">\n",
       "      <th></th>\n",
       "      <th>ID</th>\n",
       "      <th>BMI</th>\n",
       "      <th>PhysHlth</th>\n",
       "      <th>Age</th>\n",
       "      <th>HighBP</th>\n",
       "      <th>HighChol</th>\n",
       "      <th>CholCheck</th>\n",
       "      <th>Smoker</th>\n",
       "      <th>Stroke</th>\n",
       "      <th>HeartDiseaseorAttack</th>\n",
       "      <th>...</th>\n",
       "      <th>HvyAlcoholConsump</th>\n",
       "      <th>AnyHealthcare</th>\n",
       "      <th>NoDocbcCost</th>\n",
       "      <th>GenHlth</th>\n",
       "      <th>MentHlth</th>\n",
       "      <th>DiffWalk</th>\n",
       "      <th>Sex</th>\n",
       "      <th>Education</th>\n",
       "      <th>Income</th>\n",
       "      <th>Diabetes_binary</th>\n",
       "    </tr>\n",
       "  </thead>\n",
       "  <tbody>\n",
       "    <tr>\n",
       "      <th>0</th>\n",
       "      <td>114414</td>\n",
       "      <td>29.0</td>\n",
       "      <td>0.0</td>\n",
       "      <td>65 to 69</td>\n",
       "      <td>0</td>\n",
       "      <td>1</td>\n",
       "      <td>1</td>\n",
       "      <td>0</td>\n",
       "      <td>0</td>\n",
       "      <td>0</td>\n",
       "      <td>...</td>\n",
       "      <td>0</td>\n",
       "      <td>1</td>\n",
       "      <td>1</td>\n",
       "      <td>Poor</td>\n",
       "      <td>0</td>\n",
       "      <td>0</td>\n",
       "      <td>0</td>\n",
       "      <td>6</td>\n",
       "      <td>7</td>\n",
       "      <td>Non-Diabetic</td>\n",
       "    </tr>\n",
       "    <tr>\n",
       "      <th>1</th>\n",
       "      <td>168896</td>\n",
       "      <td>32.0</td>\n",
       "      <td>0.0</td>\n",
       "      <td>80 or older</td>\n",
       "      <td>1</td>\n",
       "      <td>1</td>\n",
       "      <td>1</td>\n",
       "      <td>0</td>\n",
       "      <td>0</td>\n",
       "      <td>0</td>\n",
       "      <td>...</td>\n",
       "      <td>0</td>\n",
       "      <td>1</td>\n",
       "      <td>0</td>\n",
       "      <td>Poor</td>\n",
       "      <td>0</td>\n",
       "      <td>0</td>\n",
       "      <td>0</td>\n",
       "      <td>Some College Degree</td>\n",
       "      <td>4</td>\n",
       "      <td>Non-Diabetic</td>\n",
       "    </tr>\n",
       "    <tr>\n",
       "      <th>2</th>\n",
       "      <td>68354</td>\n",
       "      <td>25.0</td>\n",
       "      <td>5.0</td>\n",
       "      <td>65 to 69</td>\n",
       "      <td>1</td>\n",
       "      <td>0</td>\n",
       "      <td>1</td>\n",
       "      <td>1</td>\n",
       "      <td>0</td>\n",
       "      <td>0</td>\n",
       "      <td>...</td>\n",
       "      <td>0</td>\n",
       "      <td>1</td>\n",
       "      <td>0</td>\n",
       "      <td>Fair</td>\n",
       "      <td>0</td>\n",
       "      <td>0</td>\n",
       "      <td>1</td>\n",
       "      <td>6</td>\n",
       "      <td>2</td>\n",
       "      <td>Non-Diabetic</td>\n",
       "    </tr>\n",
       "    <tr>\n",
       "      <th>3</th>\n",
       "      <td>121194</td>\n",
       "      <td>24.0</td>\n",
       "      <td>0.0</td>\n",
       "      <td>80 or older</td>\n",
       "      <td>1</td>\n",
       "      <td>0</td>\n",
       "      <td>1</td>\n",
       "      <td>0</td>\n",
       "      <td>0</td>\n",
       "      <td>0</td>\n",
       "      <td>...</td>\n",
       "      <td>0</td>\n",
       "      <td>1</td>\n",
       "      <td>0</td>\n",
       "      <td>Very Good</td>\n",
       "      <td>0</td>\n",
       "      <td>1</td>\n",
       "      <td>0</td>\n",
       "      <td>Advanced Degree</td>\n",
       "      <td>5</td>\n",
       "      <td>Non-Diabetic</td>\n",
       "    </tr>\n",
       "    <tr>\n",
       "      <th>4</th>\n",
       "      <td>141150</td>\n",
       "      <td>31.0</td>\n",
       "      <td>0.0</td>\n",
       "      <td>25 to 29</td>\n",
       "      <td>0</td>\n",
       "      <td>0</td>\n",
       "      <td>1</td>\n",
       "      <td>0</td>\n",
       "      <td>0</td>\n",
       "      <td>1</td>\n",
       "      <td>...</td>\n",
       "      <td>0</td>\n",
       "      <td>1</td>\n",
       "      <td>0</td>\n",
       "      <td>Very Good</td>\n",
       "      <td>5</td>\n",
       "      <td>0</td>\n",
       "      <td>0</td>\n",
       "      <td>6</td>\n",
       "      <td>6</td>\n",
       "      <td>Diabetic</td>\n",
       "    </tr>\n",
       "    <tr>\n",
       "      <th>...</th>\n",
       "      <td>...</td>\n",
       "      <td>...</td>\n",
       "      <td>...</td>\n",
       "      <td>...</td>\n",
       "      <td>...</td>\n",
       "      <td>...</td>\n",
       "      <td>...</td>\n",
       "      <td>...</td>\n",
       "      <td>...</td>\n",
       "      <td>...</td>\n",
       "      <td>...</td>\n",
       "      <td>...</td>\n",
       "      <td>...</td>\n",
       "      <td>...</td>\n",
       "      <td>...</td>\n",
       "      <td>...</td>\n",
       "      <td>...</td>\n",
       "      <td>...</td>\n",
       "      <td>...</td>\n",
       "      <td>...</td>\n",
       "      <td>...</td>\n",
       "    </tr>\n",
       "    <tr>\n",
       "      <th>194820</th>\n",
       "      <td>43401</td>\n",
       "      <td>28.0</td>\n",
       "      <td>28.0</td>\n",
       "      <td>50 to 54</td>\n",
       "      <td>1</td>\n",
       "      <td>1</td>\n",
       "      <td>1</td>\n",
       "      <td>0</td>\n",
       "      <td>0</td>\n",
       "      <td>0</td>\n",
       "      <td>...</td>\n",
       "      <td>0</td>\n",
       "      <td>1</td>\n",
       "      <td>0</td>\n",
       "      <td>Very Good</td>\n",
       "      <td>15</td>\n",
       "      <td>1</td>\n",
       "      <td>1</td>\n",
       "      <td>Advanced Degree</td>\n",
       "      <td>6</td>\n",
       "      <td>Diabetic</td>\n",
       "    </tr>\n",
       "    <tr>\n",
       "      <th>194821</th>\n",
       "      <td>233048</td>\n",
       "      <td>25.0</td>\n",
       "      <td>0.0</td>\n",
       "      <td>60 to 64</td>\n",
       "      <td>0</td>\n",
       "      <td>0</td>\n",
       "      <td>1</td>\n",
       "      <td>1</td>\n",
       "      <td>0</td>\n",
       "      <td>0</td>\n",
       "      <td>...</td>\n",
       "      <td>0</td>\n",
       "      <td>1</td>\n",
       "      <td>1</td>\n",
       "      <td>Fair</td>\n",
       "      <td>0</td>\n",
       "      <td>0</td>\n",
       "      <td>0</td>\n",
       "      <td>Advanced Degree</td>\n",
       "      <td>7</td>\n",
       "      <td>Non-Diabetic</td>\n",
       "    </tr>\n",
       "    <tr>\n",
       "      <th>194822</th>\n",
       "      <td>1241</td>\n",
       "      <td>33.0</td>\n",
       "      <td>1.0</td>\n",
       "      <td>65 to 69</td>\n",
       "      <td>0</td>\n",
       "      <td>1</td>\n",
       "      <td>1</td>\n",
       "      <td>1</td>\n",
       "      <td>0</td>\n",
       "      <td>1</td>\n",
       "      <td>...</td>\n",
       "      <td>0</td>\n",
       "      <td>1</td>\n",
       "      <td>0</td>\n",
       "      <td>Fair</td>\n",
       "      <td>2</td>\n",
       "      <td>0</td>\n",
       "      <td>0</td>\n",
       "      <td>6</td>\n",
       "      <td>7</td>\n",
       "      <td>Non-Diabetic</td>\n",
       "    </tr>\n",
       "    <tr>\n",
       "      <th>194823</th>\n",
       "      <td>248165</td>\n",
       "      <td>33.0</td>\n",
       "      <td>0.0</td>\n",
       "      <td>60 to 64</td>\n",
       "      <td>0</td>\n",
       "      <td>0</td>\n",
       "      <td>1</td>\n",
       "      <td>0</td>\n",
       "      <td>0</td>\n",
       "      <td>0</td>\n",
       "      <td>...</td>\n",
       "      <td>0</td>\n",
       "      <td>1</td>\n",
       "      <td>0</td>\n",
       "      <td>Fair</td>\n",
       "      <td>1</td>\n",
       "      <td>1</td>\n",
       "      <td>0</td>\n",
       "      <td>6</td>\n",
       "      <td>7</td>\n",
       "      <td>Non-Diabetic</td>\n",
       "    </tr>\n",
       "    <tr>\n",
       "      <th>194824</th>\n",
       "      <td>133109</td>\n",
       "      <td>30.0</td>\n",
       "      <td>2.0</td>\n",
       "      <td>60 to 64</td>\n",
       "      <td>0</td>\n",
       "      <td>1</td>\n",
       "      <td>1</td>\n",
       "      <td>0</td>\n",
       "      <td>0</td>\n",
       "      <td>0</td>\n",
       "      <td>...</td>\n",
       "      <td>0</td>\n",
       "      <td>1</td>\n",
       "      <td>0</td>\n",
       "      <td>Good</td>\n",
       "      <td>7</td>\n",
       "      <td>0</td>\n",
       "      <td>0</td>\n",
       "      <td>6</td>\n",
       "      <td>7</td>\n",
       "      <td>Non-Diabetic</td>\n",
       "    </tr>\n",
       "  </tbody>\n",
       "</table>\n",
       "<p>194825 rows × 23 columns</p>\n",
       "</div>"
      ],
      "text/plain": [
       "            ID   BMI  PhysHlth          Age HighBP HighChol CholCheck Smoker  \\\n",
       "0       114414  29.0       0.0     65 to 69      0        1         1      0   \n",
       "1       168896  32.0       0.0  80 or older      1        1         1      0   \n",
       "2        68354  25.0       5.0     65 to 69      1        0         1      1   \n",
       "3       121194  24.0       0.0  80 or older      1        0         1      0   \n",
       "4       141150  31.0       0.0     25 to 29      0        0         1      0   \n",
       "...        ...   ...       ...          ...    ...      ...       ...    ...   \n",
       "194820   43401  28.0      28.0     50 to 54      1        1         1      0   \n",
       "194821  233048  25.0       0.0     60 to 64      0        0         1      1   \n",
       "194822    1241  33.0       1.0     65 to 69      0        1         1      1   \n",
       "194823  248165  33.0       0.0     60 to 64      0        0         1      0   \n",
       "194824  133109  30.0       2.0     60 to 64      0        1         1      0   \n",
       "\n",
       "       Stroke HeartDiseaseorAttack  ... HvyAlcoholConsump AnyHealthcare  \\\n",
       "0           0                    0  ...                 0             1   \n",
       "1           0                    0  ...                 0             1   \n",
       "2           0                    0  ...                 0             1   \n",
       "3           0                    0  ...                 0             1   \n",
       "4           0                    1  ...                 0             1   \n",
       "...       ...                  ...  ...               ...           ...   \n",
       "194820      0                    0  ...                 0             1   \n",
       "194821      0                    0  ...                 0             1   \n",
       "194822      0                    1  ...                 0             1   \n",
       "194823      0                    0  ...                 0             1   \n",
       "194824      0                    0  ...                 0             1   \n",
       "\n",
       "       NoDocbcCost    GenHlth MentHlth DiffWalk Sex            Education  \\\n",
       "0                1       Poor        0        0   0                    6   \n",
       "1                0       Poor        0        0   0  Some College Degree   \n",
       "2                0       Fair        0        0   1                    6   \n",
       "3                0  Very Good        0        1   0      Advanced Degree   \n",
       "4                0  Very Good        5        0   0                    6   \n",
       "...            ...        ...      ...      ...  ..                  ...   \n",
       "194820           0  Very Good       15        1   1      Advanced Degree   \n",
       "194821           1       Fair        0        0   0      Advanced Degree   \n",
       "194822           0       Fair        2        0   0                    6   \n",
       "194823           0       Fair        1        1   0                    6   \n",
       "194824           0       Good        7        0   0                    6   \n",
       "\n",
       "       Income Diabetes_binary  \n",
       "0           7    Non-Diabetic  \n",
       "1           4    Non-Diabetic  \n",
       "2           2    Non-Diabetic  \n",
       "3           5    Non-Diabetic  \n",
       "4           6        Diabetic  \n",
       "...       ...             ...  \n",
       "194820      6        Diabetic  \n",
       "194821      7    Non-Diabetic  \n",
       "194822      7    Non-Diabetic  \n",
       "194823      7    Non-Diabetic  \n",
       "194824      7    Non-Diabetic  \n",
       "\n",
       "[194825 rows x 23 columns]"
      ]
     },
     "execution_count": 25,
     "metadata": {},
     "output_type": "execute_result"
    }
   ],
   "source": [
    "from datasets import load_dataset\n",
    "\n",
    "ds = load_dataset(\"Bena345/cdc-diabetes-health-indicators\")\n",
    "\n",
    "df = ds['train'].to_pandas()\n",
    "#print(df.isnull().sum())\n",
    "df['Diabetes_binary'].unique()\n",
    "df"
   ]
  },
  {
   "cell_type": "code",
   "execution_count": null,
   "id": "9981cdc0",
   "metadata": {},
   "outputs": [
    {
     "name": "stdout",
     "output_type": "stream",
     "text": [
      "[114414 168896  68354 ...   1241 248165 133109] ID \n",
      "\n",
      "[29. 32. 25. 24. 31. 20. 35. 28. 26. 23. 30. 33. 79. 43. 36. 27. 38. 22.\n",
      " 44. 21. 45. 49. 39. 41. 73. 37. 42. 34. 52. 40. 58. 19. 17. 18. 51. 46.\n",
      " 50. 56. 48. 86. 47. 15. 55. 92. 65. 76. 84. 53. 13. 87. 16. 62. 74. 89.\n",
      " 64. 71. 61. 66. 59. 57. 83. 14. 63. 95. 81. 54. 75. 77. 60. 70. 82. 68.\n",
      " 96. 12. 88. 72. 67. 78. 98. 90. 69. 91. 85.] BMI \n",
      "\n",
      "[ 0.  5.  2.  3. 10. 20.  4. 15. 25.  1. 14. 30.  7. 21. 23. 17.  6. 12.\n",
      "  8. 28. 29. 27.  9. 26. 22. 13. 16. 18. 24. 11. 19.] PhysHlth \n",
      "\n",
      "['65 to 69' '80 or older' '25 to 29' '55 to 59' '70 to 74' '60 to 64'\n",
      " '75 to 79' '40 to 44' '35 to 39' '45 to 49' '18 to 24' '30 to 34'\n",
      " '50 to 54'] Age \n",
      "\n",
      "['Normal blood pressure' 'High blood pressure'] HighBP \n",
      "\n",
      "['High cholesterol' 'Low cholesterol'] HighChol \n",
      "\n",
      "['1' '0'] CholCheck \n",
      "\n",
      "['Non-smoker' 'Smoker'] Smoker \n",
      "\n",
      "['No stroke history' 'Had a stroke'] Stroke \n",
      "\n",
      "['No heart condition' 'Had heart disease'] HeartDiseaseorAttack \n",
      "\n",
      "['Physically active' 'Physically inactive'] PhysActivity \n",
      "\n",
      "['0' '1'] Fruits \n",
      "\n",
      "['1' '0'] Veggies \n",
      "\n",
      "['Not heavy drinker' 'Heavy alcohol use'] HvyAlcoholConsump \n",
      "\n",
      "['1' '0'] AnyHealthcare \n",
      "\n",
      "['1' '0'] NoDocbcCost \n",
      "\n",
      "['Poor' 'Fair' 'Very Good' 'Good' 'Excellent'] GenHlth \n",
      "\n",
      "['0' '5' '3' '1' '2' '15' '4' '10' '30' '8' '14' '21' '7' '20' '27' '6'\n",
      " '17' '25' '13' '28' '12' '26' '16' '24' '9' '29' '23' '22' '18' '11' '19'] MentHlth \n",
      "\n",
      "['0' '1'] DiffWalk \n",
      "\n",
      "['Female' 'Male'] Sex \n",
      "\n",
      "['6' 'Some College Degree' 'Advanced Degree' 'High School' 'Elementary'\n",
      " 'Never Attended School'] Education \n",
      "\n",
      "['7' '4' '2' '5' '6' '3' '8' '1'] Income \n",
      "\n",
      "['Non-Diabetic' 'Diabetic'] Diabetes_binary \n",
      "\n"
     ]
    },
    {
     "ename": "",
     "evalue": "",
     "output_type": "error",
     "traceback": [
      "\u001b[1;31mThe Kernel crashed while executing code in the current cell or a previous cell. \n",
      "\u001b[1;31mPlease review the code in the cell(s) to identify a possible cause of the failure. \n",
      "\u001b[1;31mClick <a href='https://aka.ms/vscodeJupyterKernelCrash'>here</a> for more info. \n",
      "\u001b[1;31mView Jupyter <a href='command:jupyter.viewOutput'>log</a> for further details."
     ]
    }
   ],
   "source": [
    "for col in df.columns:\n",
    "    print((df[col].unique()), col, '\\n')\n"
   ]
  },
  {
   "cell_type": "code",
   "execution_count": 27,
   "id": "6a2afff9",
   "metadata": {},
   "outputs": [
    {
     "name": "stdout",
     "output_type": "stream",
     "text": [
      "Avisa: La columna MentHlth té valors fora del mapping. No s'ha convertit.\n"
     ]
    }
   ],
   "source": [
    "dataset = df\n",
    "binary_to_categorical = {\n",
    "                \"HighChol\": {0: \"Low cholesterol\", 1: \"High cholesterol\"},\n",
    "                \"HvyAlcoholConsump\": {0: \"Not heavy drinker\", 1: \"Heavy alcohol use\"},\n",
    "                \"Sex\": {0: \"Female\", 1: \"Male\"},\n",
    "                \"MentHlth\": {0: \"Mentally healthy\", 1: \"Mental health issues\"},\n",
    "                \"HeartDiseaseorAttack\": {0: \"No heart condition\", 1: \"Had heart disease\"},\n",
    "                \"Stroke\": {0: \"No stroke history\", 1: \"Had a stroke\"},\n",
    "                \"Smoker\": {0: \"Non-smoker\", 1: \"Smoker\"},\n",
    "                \"HighBP\": {0: \"Normal blood pressure\", 1: \"High blood pressure\"},\n",
    "                \"PhysActivity\": {0: \"Physically inactive\", 1: \"Physically active\"},\n",
    "            }\n",
    "binary_to_categorical = {\n",
    "    \"HighChol\": {\"0\": \"Low cholesterol\", \"1\": \"High cholesterol\"},  # 0: \"Low cholesterol\", 1: \"High cholesterol\"\n",
    "    \"HvyAlcoholConsump\": {\"0\": \"Not heavy drinker\", \"1\": \"Heavy alcohol use\"},\n",
    "    \"Sex\": {\"0\": \"Female\", \"1\": \"Male\"},\n",
    "    \"MentHlth\": {\"0\": \"Mentally healthy\", \"1\": \"Mental health issues\"},\n",
    "    \"HeartDiseaseorAttack\": {\"0\": \"No heart condition\", \"1\": \"Had heart disease\"},\n",
    "    \"Stroke\": {\"0\": \"No stroke history\", \"1\": \"Had a stroke\"},\n",
    "    \"Smoker\": {\"0\": \"Non-smoker\", \"1\": \"Smoker\"},\n",
    "    \"HighBP\": {\"0\": \"Normal blood pressure\", \"1\": \"High blood pressure\"},\n",
    "    \"PhysActivity\": {\"0\": \"Physically inactive\", \"1\": \"Physically active\"},\n",
    "}\n",
    "\n",
    "        # Aplicar mapping a cada columna\n",
    "for col, mapping in binary_to_categorical.items():\n",
    "    if col in df.columns:\n",
    "        if set(df[col].dropna().unique()).issubset(mapping.keys()):\n",
    "            df[col] = df[col].map(mapping)\n",
    "        else:\n",
    "            print(f\"Avisa: La columna {col} té valors fora del mapping. No s'ha convertit.\")\n"
   ]
  },
  {
   "cell_type": "code",
   "execution_count": 28,
   "id": "4e84836a",
   "metadata": {},
   "outputs": [
    {
     "data": {
      "text/html": [
       "<div>\n",
       "<style scoped>\n",
       "    .dataframe tbody tr th:only-of-type {\n",
       "        vertical-align: middle;\n",
       "    }\n",
       "\n",
       "    .dataframe tbody tr th {\n",
       "        vertical-align: top;\n",
       "    }\n",
       "\n",
       "    .dataframe thead th {\n",
       "        text-align: right;\n",
       "    }\n",
       "</style>\n",
       "<table border=\"1\" class=\"dataframe\">\n",
       "  <thead>\n",
       "    <tr style=\"text-align: right;\">\n",
       "      <th></th>\n",
       "      <th>ID</th>\n",
       "      <th>BMI</th>\n",
       "      <th>PhysHlth</th>\n",
       "      <th>Age</th>\n",
       "      <th>HighBP</th>\n",
       "      <th>HighChol</th>\n",
       "      <th>CholCheck</th>\n",
       "      <th>Smoker</th>\n",
       "      <th>Stroke</th>\n",
       "      <th>HeartDiseaseorAttack</th>\n",
       "      <th>...</th>\n",
       "      <th>HvyAlcoholConsump</th>\n",
       "      <th>AnyHealthcare</th>\n",
       "      <th>NoDocbcCost</th>\n",
       "      <th>GenHlth</th>\n",
       "      <th>MentHlth</th>\n",
       "      <th>DiffWalk</th>\n",
       "      <th>Sex</th>\n",
       "      <th>Education</th>\n",
       "      <th>Income</th>\n",
       "      <th>Diabetes_binary</th>\n",
       "    </tr>\n",
       "  </thead>\n",
       "  <tbody>\n",
       "    <tr>\n",
       "      <th>0</th>\n",
       "      <td>114414</td>\n",
       "      <td>29.0</td>\n",
       "      <td>0.0</td>\n",
       "      <td>65 to 69</td>\n",
       "      <td>Normal blood pressure</td>\n",
       "      <td>High cholesterol</td>\n",
       "      <td>1</td>\n",
       "      <td>Non-smoker</td>\n",
       "      <td>No stroke history</td>\n",
       "      <td>No heart condition</td>\n",
       "      <td>...</td>\n",
       "      <td>Not heavy drinker</td>\n",
       "      <td>1</td>\n",
       "      <td>1</td>\n",
       "      <td>Poor</td>\n",
       "      <td>0</td>\n",
       "      <td>0</td>\n",
       "      <td>Female</td>\n",
       "      <td>6</td>\n",
       "      <td>7</td>\n",
       "      <td>Non-Diabetic</td>\n",
       "    </tr>\n",
       "    <tr>\n",
       "      <th>1</th>\n",
       "      <td>168896</td>\n",
       "      <td>32.0</td>\n",
       "      <td>0.0</td>\n",
       "      <td>80 or older</td>\n",
       "      <td>High blood pressure</td>\n",
       "      <td>High cholesterol</td>\n",
       "      <td>1</td>\n",
       "      <td>Non-smoker</td>\n",
       "      <td>No stroke history</td>\n",
       "      <td>No heart condition</td>\n",
       "      <td>...</td>\n",
       "      <td>Not heavy drinker</td>\n",
       "      <td>1</td>\n",
       "      <td>0</td>\n",
       "      <td>Poor</td>\n",
       "      <td>0</td>\n",
       "      <td>0</td>\n",
       "      <td>Female</td>\n",
       "      <td>Some College Degree</td>\n",
       "      <td>4</td>\n",
       "      <td>Non-Diabetic</td>\n",
       "    </tr>\n",
       "    <tr>\n",
       "      <th>2</th>\n",
       "      <td>68354</td>\n",
       "      <td>25.0</td>\n",
       "      <td>5.0</td>\n",
       "      <td>65 to 69</td>\n",
       "      <td>High blood pressure</td>\n",
       "      <td>Low cholesterol</td>\n",
       "      <td>1</td>\n",
       "      <td>Smoker</td>\n",
       "      <td>No stroke history</td>\n",
       "      <td>No heart condition</td>\n",
       "      <td>...</td>\n",
       "      <td>Not heavy drinker</td>\n",
       "      <td>1</td>\n",
       "      <td>0</td>\n",
       "      <td>Fair</td>\n",
       "      <td>0</td>\n",
       "      <td>0</td>\n",
       "      <td>Male</td>\n",
       "      <td>6</td>\n",
       "      <td>2</td>\n",
       "      <td>Non-Diabetic</td>\n",
       "    </tr>\n",
       "    <tr>\n",
       "      <th>3</th>\n",
       "      <td>121194</td>\n",
       "      <td>24.0</td>\n",
       "      <td>0.0</td>\n",
       "      <td>80 or older</td>\n",
       "      <td>High blood pressure</td>\n",
       "      <td>Low cholesterol</td>\n",
       "      <td>1</td>\n",
       "      <td>Non-smoker</td>\n",
       "      <td>No stroke history</td>\n",
       "      <td>No heart condition</td>\n",
       "      <td>...</td>\n",
       "      <td>Not heavy drinker</td>\n",
       "      <td>1</td>\n",
       "      <td>0</td>\n",
       "      <td>Very Good</td>\n",
       "      <td>0</td>\n",
       "      <td>1</td>\n",
       "      <td>Female</td>\n",
       "      <td>Advanced Degree</td>\n",
       "      <td>5</td>\n",
       "      <td>Non-Diabetic</td>\n",
       "    </tr>\n",
       "    <tr>\n",
       "      <th>4</th>\n",
       "      <td>141150</td>\n",
       "      <td>31.0</td>\n",
       "      <td>0.0</td>\n",
       "      <td>25 to 29</td>\n",
       "      <td>Normal blood pressure</td>\n",
       "      <td>Low cholesterol</td>\n",
       "      <td>1</td>\n",
       "      <td>Non-smoker</td>\n",
       "      <td>No stroke history</td>\n",
       "      <td>Had heart disease</td>\n",
       "      <td>...</td>\n",
       "      <td>Not heavy drinker</td>\n",
       "      <td>1</td>\n",
       "      <td>0</td>\n",
       "      <td>Very Good</td>\n",
       "      <td>5</td>\n",
       "      <td>0</td>\n",
       "      <td>Female</td>\n",
       "      <td>6</td>\n",
       "      <td>6</td>\n",
       "      <td>Diabetic</td>\n",
       "    </tr>\n",
       "    <tr>\n",
       "      <th>...</th>\n",
       "      <td>...</td>\n",
       "      <td>...</td>\n",
       "      <td>...</td>\n",
       "      <td>...</td>\n",
       "      <td>...</td>\n",
       "      <td>...</td>\n",
       "      <td>...</td>\n",
       "      <td>...</td>\n",
       "      <td>...</td>\n",
       "      <td>...</td>\n",
       "      <td>...</td>\n",
       "      <td>...</td>\n",
       "      <td>...</td>\n",
       "      <td>...</td>\n",
       "      <td>...</td>\n",
       "      <td>...</td>\n",
       "      <td>...</td>\n",
       "      <td>...</td>\n",
       "      <td>...</td>\n",
       "      <td>...</td>\n",
       "      <td>...</td>\n",
       "    </tr>\n",
       "    <tr>\n",
       "      <th>194820</th>\n",
       "      <td>43401</td>\n",
       "      <td>28.0</td>\n",
       "      <td>28.0</td>\n",
       "      <td>50 to 54</td>\n",
       "      <td>High blood pressure</td>\n",
       "      <td>High cholesterol</td>\n",
       "      <td>1</td>\n",
       "      <td>Non-smoker</td>\n",
       "      <td>No stroke history</td>\n",
       "      <td>No heart condition</td>\n",
       "      <td>...</td>\n",
       "      <td>Not heavy drinker</td>\n",
       "      <td>1</td>\n",
       "      <td>0</td>\n",
       "      <td>Very Good</td>\n",
       "      <td>15</td>\n",
       "      <td>1</td>\n",
       "      <td>Male</td>\n",
       "      <td>Advanced Degree</td>\n",
       "      <td>6</td>\n",
       "      <td>Diabetic</td>\n",
       "    </tr>\n",
       "    <tr>\n",
       "      <th>194821</th>\n",
       "      <td>233048</td>\n",
       "      <td>25.0</td>\n",
       "      <td>0.0</td>\n",
       "      <td>60 to 64</td>\n",
       "      <td>Normal blood pressure</td>\n",
       "      <td>Low cholesterol</td>\n",
       "      <td>1</td>\n",
       "      <td>Smoker</td>\n",
       "      <td>No stroke history</td>\n",
       "      <td>No heart condition</td>\n",
       "      <td>...</td>\n",
       "      <td>Not heavy drinker</td>\n",
       "      <td>1</td>\n",
       "      <td>1</td>\n",
       "      <td>Fair</td>\n",
       "      <td>0</td>\n",
       "      <td>0</td>\n",
       "      <td>Female</td>\n",
       "      <td>Advanced Degree</td>\n",
       "      <td>7</td>\n",
       "      <td>Non-Diabetic</td>\n",
       "    </tr>\n",
       "    <tr>\n",
       "      <th>194822</th>\n",
       "      <td>1241</td>\n",
       "      <td>33.0</td>\n",
       "      <td>1.0</td>\n",
       "      <td>65 to 69</td>\n",
       "      <td>Normal blood pressure</td>\n",
       "      <td>High cholesterol</td>\n",
       "      <td>1</td>\n",
       "      <td>Smoker</td>\n",
       "      <td>No stroke history</td>\n",
       "      <td>Had heart disease</td>\n",
       "      <td>...</td>\n",
       "      <td>Not heavy drinker</td>\n",
       "      <td>1</td>\n",
       "      <td>0</td>\n",
       "      <td>Fair</td>\n",
       "      <td>2</td>\n",
       "      <td>0</td>\n",
       "      <td>Female</td>\n",
       "      <td>6</td>\n",
       "      <td>7</td>\n",
       "      <td>Non-Diabetic</td>\n",
       "    </tr>\n",
       "    <tr>\n",
       "      <th>194823</th>\n",
       "      <td>248165</td>\n",
       "      <td>33.0</td>\n",
       "      <td>0.0</td>\n",
       "      <td>60 to 64</td>\n",
       "      <td>Normal blood pressure</td>\n",
       "      <td>Low cholesterol</td>\n",
       "      <td>1</td>\n",
       "      <td>Non-smoker</td>\n",
       "      <td>No stroke history</td>\n",
       "      <td>No heart condition</td>\n",
       "      <td>...</td>\n",
       "      <td>Not heavy drinker</td>\n",
       "      <td>1</td>\n",
       "      <td>0</td>\n",
       "      <td>Fair</td>\n",
       "      <td>1</td>\n",
       "      <td>1</td>\n",
       "      <td>Female</td>\n",
       "      <td>6</td>\n",
       "      <td>7</td>\n",
       "      <td>Non-Diabetic</td>\n",
       "    </tr>\n",
       "    <tr>\n",
       "      <th>194824</th>\n",
       "      <td>133109</td>\n",
       "      <td>30.0</td>\n",
       "      <td>2.0</td>\n",
       "      <td>60 to 64</td>\n",
       "      <td>Normal blood pressure</td>\n",
       "      <td>High cholesterol</td>\n",
       "      <td>1</td>\n",
       "      <td>Non-smoker</td>\n",
       "      <td>No stroke history</td>\n",
       "      <td>No heart condition</td>\n",
       "      <td>...</td>\n",
       "      <td>Not heavy drinker</td>\n",
       "      <td>1</td>\n",
       "      <td>0</td>\n",
       "      <td>Good</td>\n",
       "      <td>7</td>\n",
       "      <td>0</td>\n",
       "      <td>Female</td>\n",
       "      <td>6</td>\n",
       "      <td>7</td>\n",
       "      <td>Non-Diabetic</td>\n",
       "    </tr>\n",
       "  </tbody>\n",
       "</table>\n",
       "<p>194825 rows × 23 columns</p>\n",
       "</div>"
      ],
      "text/plain": [
       "            ID   BMI  PhysHlth          Age                 HighBP  \\\n",
       "0       114414  29.0       0.0     65 to 69  Normal blood pressure   \n",
       "1       168896  32.0       0.0  80 or older    High blood pressure   \n",
       "2        68354  25.0       5.0     65 to 69    High blood pressure   \n",
       "3       121194  24.0       0.0  80 or older    High blood pressure   \n",
       "4       141150  31.0       0.0     25 to 29  Normal blood pressure   \n",
       "...        ...   ...       ...          ...                    ...   \n",
       "194820   43401  28.0      28.0     50 to 54    High blood pressure   \n",
       "194821  233048  25.0       0.0     60 to 64  Normal blood pressure   \n",
       "194822    1241  33.0       1.0     65 to 69  Normal blood pressure   \n",
       "194823  248165  33.0       0.0     60 to 64  Normal blood pressure   \n",
       "194824  133109  30.0       2.0     60 to 64  Normal blood pressure   \n",
       "\n",
       "                HighChol CholCheck      Smoker             Stroke  \\\n",
       "0       High cholesterol         1  Non-smoker  No stroke history   \n",
       "1       High cholesterol         1  Non-smoker  No stroke history   \n",
       "2        Low cholesterol         1      Smoker  No stroke history   \n",
       "3        Low cholesterol         1  Non-smoker  No stroke history   \n",
       "4        Low cholesterol         1  Non-smoker  No stroke history   \n",
       "...                  ...       ...         ...                ...   \n",
       "194820  High cholesterol         1  Non-smoker  No stroke history   \n",
       "194821   Low cholesterol         1      Smoker  No stroke history   \n",
       "194822  High cholesterol         1      Smoker  No stroke history   \n",
       "194823   Low cholesterol         1  Non-smoker  No stroke history   \n",
       "194824  High cholesterol         1  Non-smoker  No stroke history   \n",
       "\n",
       "       HeartDiseaseorAttack  ...  HvyAlcoholConsump AnyHealthcare NoDocbcCost  \\\n",
       "0        No heart condition  ...  Not heavy drinker             1           1   \n",
       "1        No heart condition  ...  Not heavy drinker             1           0   \n",
       "2        No heart condition  ...  Not heavy drinker             1           0   \n",
       "3        No heart condition  ...  Not heavy drinker             1           0   \n",
       "4         Had heart disease  ...  Not heavy drinker             1           0   \n",
       "...                     ...  ...                ...           ...         ...   \n",
       "194820   No heart condition  ...  Not heavy drinker             1           0   \n",
       "194821   No heart condition  ...  Not heavy drinker             1           1   \n",
       "194822    Had heart disease  ...  Not heavy drinker             1           0   \n",
       "194823   No heart condition  ...  Not heavy drinker             1           0   \n",
       "194824   No heart condition  ...  Not heavy drinker             1           0   \n",
       "\n",
       "          GenHlth MentHlth DiffWalk     Sex            Education Income  \\\n",
       "0            Poor        0        0  Female                    6      7   \n",
       "1            Poor        0        0  Female  Some College Degree      4   \n",
       "2            Fair        0        0    Male                    6      2   \n",
       "3       Very Good        0        1  Female      Advanced Degree      5   \n",
       "4       Very Good        5        0  Female                    6      6   \n",
       "...           ...      ...      ...     ...                  ...    ...   \n",
       "194820  Very Good       15        1    Male      Advanced Degree      6   \n",
       "194821       Fair        0        0  Female      Advanced Degree      7   \n",
       "194822       Fair        2        0  Female                    6      7   \n",
       "194823       Fair        1        1  Female                    6      7   \n",
       "194824       Good        7        0  Female                    6      7   \n",
       "\n",
       "       Diabetes_binary  \n",
       "0         Non-Diabetic  \n",
       "1         Non-Diabetic  \n",
       "2         Non-Diabetic  \n",
       "3         Non-Diabetic  \n",
       "4             Diabetic  \n",
       "...                ...  \n",
       "194820        Diabetic  \n",
       "194821    Non-Diabetic  \n",
       "194822    Non-Diabetic  \n",
       "194823    Non-Diabetic  \n",
       "194824    Non-Diabetic  \n",
       "\n",
       "[194825 rows x 23 columns]"
      ]
     },
     "execution_count": 28,
     "metadata": {},
     "output_type": "execute_result"
    }
   ],
   "source": [
    "df"
   ]
  },
  {
   "cell_type": "code",
   "execution_count": 4,
   "id": "1e090467",
   "metadata": {},
   "outputs": [
    {
     "data": {
      "text/plain": [
       "'birthdate'"
      ]
     },
     "execution_count": 4,
     "metadata": {},
     "output_type": "execute_result"
    }
   ],
   "source": [
    "\"birthdate\"  or \"Birthdate\" in df.columns\n"
   ]
  },
  {
   "cell_type": "code",
   "execution_count": 5,
   "id": "915df312",
   "metadata": {},
   "outputs": [
    {
     "name": "stdout",
     "output_type": "stream",
     "text": [
      "patient_id\n",
      "BMI\n",
      "PhysHlth\n",
      "Age\n",
      "HighBP\n",
      "HighChol\n",
      "CholCheck\n",
      "Smoker\n",
      "Stroke\n",
      "HeartDiseaseorAttack\n",
      "PhysActivity\n",
      "Fruits\n",
      "Veggies\n",
      "HvyAlcoholConsump\n",
      "AnyHealthcare\n",
      "NoDocbcCost\n",
      "GenHlth\n",
      "MentHlth\n",
      "DiffWalk\n",
      "Sex\n",
      "Education\n",
      "Income\n",
      "Diabetes_binary\n"
     ]
    }
   ],
   "source": [
    "from dataset.radiolung import BaseDataset\n",
    "\n",
    "data = BaseDataset( path_df = df, label_key=\"Diabetes_binary\")"
   ]
  },
  {
   "cell_type": "code",
   "execution_count": null,
   "id": "9e5cf7e2",
   "metadata": {},
   "outputs": [],
   "source": [
    "\n",
    "\n",
    "\n",
    "\n",
    "model = Transformer(dataset=data, \n",
    "                    feature_keys=[ \"Income\", \"Education\", \"BMI\", \"Age\", \"HighBP\", \"HighChol\", \"CholCheck\",\n",
    "                                \"Stroke\", \"Smoker\", \"Veggies\", \"PhysHlth\",  \"HvyAlcoholConsump\",\n",
    "                                \"AnyHealthcare\", \"GenHlth\", \"MentHlth\", \"Sex\",\n",
    "                                \"Fruits\", \"PhysActivity\"],\n",
    "                    label_key=\"Diabetes_binary\", # imagin que es lo que s'ha de predir\n",
    "                    mode=\"binary\", # no hi ha nateja de dataset i posa que hi ha 3 tipus enlloc de ser binari\n",
    "                    embedding_dim=256, merged= True )"
   ]
  },
  {
   "cell_type": "code",
   "execution_count": 7,
   "id": "9a0f98b3",
   "metadata": {},
   "outputs": [],
   "source": [
    "from torch.utils.data import Sampler\n",
    "import numpy as np\n",
    "\n",
    "class FixedRatioBatchSampler(Sampler):\n",
    "    def __init__(self, labels, batch_size=100, pos_ratio=0.14):\n",
    "        self.labels = np.array(labels)\n",
    "        self.batch_size = batch_size\n",
    "        self.pos_ratio = pos_ratio\n",
    "        self.n_pos = int(round(batch_size * pos_ratio))\n",
    "        self.n_neg = batch_size - self.n_pos\n",
    "\n",
    "        self.pos_indices = np.where(self.labels == 1)[0]\n",
    "        self.neg_indices = np.where(self.labels == 0)[0]\n",
    "\n",
    "        self.num_batches = min(\n",
    "            len(self.pos_indices) // self.n_pos,\n",
    "            len(self.neg_indices) // self.n_neg\n",
    "        )\n",
    "\n",
    "    def __iter__(self):\n",
    "        pos = np.random.permutation(self.pos_indices)\n",
    "        neg = np.random.permutation(self.neg_indices)\n",
    "\n",
    "        for i in range(self.num_batches):\n",
    "            pos_batch = pos[i*self.n_pos:(i+1)*self.n_pos]\n",
    "            neg_batch = neg[i*self.n_neg:(i+1)*self.n_neg]\n",
    "            batch = np.concatenate([pos_batch, neg_batch])\n",
    "            np.random.shuffle(batch)\n",
    "            yield batch.tolist()\n",
    "\n",
    "    def __len__(self):\n",
    "        return self.num_batches\n"
   ]
  },
  {
   "cell_type": "code",
   "execution_count": 1,
   "id": "a1abba6a",
   "metadata": {},
   "outputs": [
    {
     "data": {
      "text/plain": [
       "0.2"
      ]
     },
     "execution_count": 1,
     "metadata": {},
     "output_type": "execute_result"
    }
   ],
   "source": [
    "tupla = (0.7,0.2,0)\n",
    "tupla[1]"
   ]
  },
  {
   "cell_type": "code",
   "execution_count": 8,
   "id": "73c7109d",
   "metadata": {},
   "outputs": [],
   "source": [
    "\n",
    "def collate_fn_dict(batch:List):\n",
    "    return {key: [d[key] for d in batch] for key in batch[0].keys()}\n",
    "train_ds, val_ds, test_ds,  train_labels, val_labels, test_labels = split(data, (0.7, 0.3,0))\n",
    "#train_loader = DataLoader(data, batch_size=128, shuffle=True,  collate_fn=collate_fn_dict,)\n",
    "#val_loader = DataLoader(val_ds, batch_size=128, shuffle=True,  collate_fn=collate_fn_dict,)\n",
    "labels = df['Diabetes_binary']\n",
    "labels = [ x[0] for x in labels]\n",
    "\n"
   ]
  },
  {
   "cell_type": "code",
   "execution_count": 10,
   "id": "ce3b857d",
   "metadata": {},
   "outputs": [],
   "source": [
    "\n",
    "batch_sampler_val = FixedRatioBatchSampler(\n",
    "    labels=val_labels,\n",
    "    batch_size=128,\n",
    "    pos_ratio=0.14\n",
    ")\n",
    "\n",
    "val_loader = DataLoader(\n",
    "    dataset=val_ds,\n",
    "    batch_sampler=batch_sampler_val, num_workers=0,  collate_fn=collate_fn_dict,)\n",
    "\n",
    "\n",
    "batch_sampler_train = FixedRatioBatchSampler(\n",
    "    labels=val_labels,\n",
    "    batch_size=128,\n",
    "    pos_ratio=0.14\n",
    ")\n",
    "\n",
    "train_loader = DataLoader(\n",
    "    dataset=train_ds,\n",
    "    batch_sampler=batch_sampler_train, num_workers=0,  collate_fn=collate_fn_dict,)"
   ]
  },
  {
   "cell_type": "code",
   "execution_count": null,
   "id": "0b6c3875",
   "metadata": {},
   "outputs": [],
   "source": []
  },
  {
   "cell_type": "code",
   "execution_count": 12,
   "id": "b9a46c17",
   "metadata": {},
   "outputs": [
    {
     "name": "stderr",
     "output_type": "stream",
     "text": [
      "\u001b[34m\u001b[1mwandb\u001b[0m: Currently logged in as: \u001b[33mxiscacompany\u001b[0m to \u001b[32mhttps://api.wandb.ai\u001b[0m. Use \u001b[1m`wandb login --relogin`\u001b[0m to force relogin\n"
     ]
    },
    {
     "data": {
      "text/html": [
       "Tracking run with wandb version 0.19.10"
      ],
      "text/plain": [
       "<IPython.core.display.HTML object>"
      ]
     },
     "metadata": {},
     "output_type": "display_data"
    },
    {
     "data": {
      "text/html": [
       "Run data is saved locally in <code>c:\\Users\\xisca\\Documents\\4 - TFG\\codi\\tfg\\pyhealth\\wandb\\run-20250429_230136-3ckb81v9</code>"
      ],
      "text/plain": [
       "<IPython.core.display.HTML object>"
      ]
     },
     "metadata": {},
     "output_type": "display_data"
    },
    {
     "data": {
      "text/html": [
       "Syncing run <strong><a href='https://wandb.ai/tfg_pyh/tfg/runs/3ckb81v9' target=\"_blank\">dataset2_sampler_ratios_augment_particio</a></strong> to <a href='https://wandb.ai/tfg_pyh/tfg' target=\"_blank\">Weights & Biases</a> (<a href='https://wandb.me/developer-guide' target=\"_blank\">docs</a>)<br>"
      ],
      "text/plain": [
       "<IPython.core.display.HTML object>"
      ]
     },
     "metadata": {},
     "output_type": "display_data"
    },
    {
     "data": {
      "text/html": [
       " View project at <a href='https://wandb.ai/tfg_pyh/tfg' target=\"_blank\">https://wandb.ai/tfg_pyh/tfg</a>"
      ],
      "text/plain": [
       "<IPython.core.display.HTML object>"
      ]
     },
     "metadata": {},
     "output_type": "display_data"
    },
    {
     "data": {
      "text/html": [
       " View run at <a href='https://wandb.ai/tfg_pyh/tfg/runs/3ckb81v9' target=\"_blank\">https://wandb.ai/tfg_pyh/tfg/runs/3ckb81v9</a>"
      ],
      "text/plain": [
       "<IPython.core.display.HTML object>"
      ]
     },
     "metadata": {},
     "output_type": "display_data"
    },
    {
     "name": "stdout",
     "output_type": "stream",
     "text": [
      "Classes weights: [0.1393353 0.8606647]\n"
     ]
    },
    {
     "name": "stderr",
     "output_type": "stream",
     "text": [
      "Epoch 0 / 100: 100%|██████████| 446/446 [00:24<00:00, 18.13it/s]\n"
     ]
    },
    {
     "name": "stdout",
     "output_type": "stream",
     "text": [
      "Classes weights: [0.1393353 0.8606647]\n"
     ]
    },
    {
     "name": "stderr",
     "output_type": "stream",
     "text": [
      "Evaluation: 100%|██████████| 446/446 [00:18<00:00, 24.07it/s]\n",
      "Epoch 1 / 100: 100%|██████████| 446/446 [00:27<00:00, 16.12it/s]\n"
     ]
    },
    {
     "name": "stdout",
     "output_type": "stream",
     "text": [
      "Classes weights: [0.1393353 0.8606647]\n"
     ]
    },
    {
     "name": "stderr",
     "output_type": "stream",
     "text": [
      "Evaluation: 100%|██████████| 446/446 [00:18<00:00, 23.64it/s]\n",
      "Epoch 2 / 100: 100%|██████████| 446/446 [00:29<00:00, 15.00it/s]\n"
     ]
    },
    {
     "name": "stdout",
     "output_type": "stream",
     "text": [
      "Classes weights: [0.1393353 0.8606647]\n"
     ]
    },
    {
     "name": "stderr",
     "output_type": "stream",
     "text": [
      "Evaluation: 100%|██████████| 446/446 [00:19<00:00, 22.66it/s]\n",
      "Epoch 3 / 100: 100%|██████████| 446/446 [00:28<00:00, 15.76it/s]\n"
     ]
    },
    {
     "name": "stdout",
     "output_type": "stream",
     "text": [
      "Classes weights: [0.1393353 0.8606647]\n"
     ]
    },
    {
     "name": "stderr",
     "output_type": "stream",
     "text": [
      "Evaluation: 100%|██████████| 446/446 [00:19<00:00, 23.34it/s]\n",
      "Epoch 4 / 100: 100%|██████████| 446/446 [00:28<00:00, 15.40it/s]\n"
     ]
    },
    {
     "name": "stdout",
     "output_type": "stream",
     "text": [
      "Classes weights: [0.1393353 0.8606647]\n"
     ]
    },
    {
     "name": "stderr",
     "output_type": "stream",
     "text": [
      "Evaluation: 100%|██████████| 446/446 [00:21<00:00, 21.12it/s]\n",
      "Epoch 5 / 100: 100%|██████████| 446/446 [00:29<00:00, 14.93it/s]\n"
     ]
    },
    {
     "name": "stdout",
     "output_type": "stream",
     "text": [
      "Classes weights: [0.1393353 0.8606647]\n"
     ]
    },
    {
     "name": "stderr",
     "output_type": "stream",
     "text": [
      "Evaluation: 100%|██████████| 446/446 [00:22<00:00, 19.53it/s]\n",
      "Epoch 6 / 100: 100%|██████████| 446/446 [00:27<00:00, 16.17it/s]\n"
     ]
    },
    {
     "name": "stdout",
     "output_type": "stream",
     "text": [
      "Classes weights: [0.1393353 0.8606647]\n"
     ]
    },
    {
     "name": "stderr",
     "output_type": "stream",
     "text": [
      "Evaluation: 100%|██████████| 446/446 [00:20<00:00, 22.26it/s]\n",
      "Epoch 7 / 100: 100%|██████████| 446/446 [00:30<00:00, 14.45it/s]\n"
     ]
    },
    {
     "name": "stdout",
     "output_type": "stream",
     "text": [
      "Classes weights: [0.1393353 0.8606647]\n"
     ]
    },
    {
     "name": "stderr",
     "output_type": "stream",
     "text": [
      "Evaluation: 100%|██████████| 446/446 [00:23<00:00, 19.11it/s]\n",
      "Epoch 8 / 100: 100%|██████████| 446/446 [00:31<00:00, 14.29it/s]\n"
     ]
    },
    {
     "name": "stdout",
     "output_type": "stream",
     "text": [
      "Classes weights: [0.1393353 0.8606647]\n"
     ]
    },
    {
     "name": "stderr",
     "output_type": "stream",
     "text": [
      "Evaluation: 100%|██████████| 446/446 [00:23<00:00, 19.31it/s]\n",
      "Epoch 9 / 100: 100%|██████████| 446/446 [00:30<00:00, 14.39it/s]\n"
     ]
    },
    {
     "name": "stdout",
     "output_type": "stream",
     "text": [
      "Classes weights: [0.1393353 0.8606647]\n"
     ]
    },
    {
     "name": "stderr",
     "output_type": "stream",
     "text": [
      "Evaluation: 100%|██████████| 446/446 [00:22<00:00, 19.56it/s]\n",
      "Epoch 10 / 100: 100%|██████████| 446/446 [00:32<00:00, 13.84it/s]\n"
     ]
    },
    {
     "name": "stdout",
     "output_type": "stream",
     "text": [
      "Classes weights: [0.1393353 0.8606647]\n"
     ]
    },
    {
     "name": "stderr",
     "output_type": "stream",
     "text": [
      "Evaluation: 100%|██████████| 446/446 [00:25<00:00, 17.60it/s]\n",
      "Epoch 11 / 100: 100%|██████████| 446/446 [00:29<00:00, 14.93it/s]\n"
     ]
    },
    {
     "name": "stdout",
     "output_type": "stream",
     "text": [
      "Classes weights: [0.1393353 0.8606647]\n"
     ]
    },
    {
     "name": "stderr",
     "output_type": "stream",
     "text": [
      "Evaluation: 100%|██████████| 446/446 [00:18<00:00, 24.59it/s]\n",
      "Epoch 12 / 100: 100%|██████████| 446/446 [00:26<00:00, 16.75it/s]\n"
     ]
    },
    {
     "name": "stdout",
     "output_type": "stream",
     "text": [
      "Classes weights: [0.1393353 0.8606647]\n"
     ]
    },
    {
     "name": "stderr",
     "output_type": "stream",
     "text": [
      "Evaluation: 100%|██████████| 446/446 [00:18<00:00, 24.71it/s]\n",
      "Epoch 13 / 100: 100%|██████████| 446/446 [00:27<00:00, 15.95it/s]\n"
     ]
    },
    {
     "name": "stdout",
     "output_type": "stream",
     "text": [
      "Classes weights: [0.1393353 0.8606647]\n"
     ]
    },
    {
     "name": "stderr",
     "output_type": "stream",
     "text": [
      "Evaluation: 100%|██████████| 446/446 [00:19<00:00, 22.85it/s]\n",
      "Epoch 14 / 100: 100%|██████████| 446/446 [00:28<00:00, 15.57it/s]\n"
     ]
    },
    {
     "name": "stdout",
     "output_type": "stream",
     "text": [
      "Classes weights: [0.1393353 0.8606647]\n"
     ]
    },
    {
     "name": "stderr",
     "output_type": "stream",
     "text": [
      "Evaluation: 100%|██████████| 446/446 [00:19<00:00, 22.59it/s]\n",
      "Epoch 15 / 100: 100%|██████████| 446/446 [00:28<00:00, 15.57it/s]\n"
     ]
    },
    {
     "name": "stdout",
     "output_type": "stream",
     "text": [
      "Classes weights: [0.1393353 0.8606647]\n"
     ]
    },
    {
     "name": "stderr",
     "output_type": "stream",
     "text": [
      "Evaluation: 100%|██████████| 446/446 [00:20<00:00, 21.40it/s]\n",
      "Epoch 16 / 100: 100%|██████████| 446/446 [00:28<00:00, 15.91it/s]\n"
     ]
    },
    {
     "name": "stdout",
     "output_type": "stream",
     "text": [
      "Classes weights: [0.1393353 0.8606647]\n"
     ]
    },
    {
     "name": "stderr",
     "output_type": "stream",
     "text": [
      "Evaluation: 100%|██████████| 446/446 [00:19<00:00, 23.00it/s]\n",
      "Epoch 17 / 100: 100%|██████████| 446/446 [00:28<00:00, 15.84it/s]\n"
     ]
    },
    {
     "name": "stdout",
     "output_type": "stream",
     "text": [
      "Classes weights: [0.1393353 0.8606647]\n"
     ]
    },
    {
     "name": "stderr",
     "output_type": "stream",
     "text": [
      "Evaluation: 100%|██████████| 446/446 [00:21<00:00, 20.86it/s]\n",
      "Epoch 18 / 100: 100%|██████████| 446/446 [00:28<00:00, 15.48it/s]\n"
     ]
    },
    {
     "name": "stdout",
     "output_type": "stream",
     "text": [
      "Classes weights: [0.1393353 0.8606647]\n"
     ]
    },
    {
     "name": "stderr",
     "output_type": "stream",
     "text": [
      "Evaluation: 100%|██████████| 446/446 [00:19<00:00, 22.72it/s]\n",
      "Epoch 19 / 100: 100%|██████████| 446/446 [00:28<00:00, 15.59it/s]\n"
     ]
    },
    {
     "name": "stdout",
     "output_type": "stream",
     "text": [
      "Classes weights: [0.1393353 0.8606647]\n"
     ]
    },
    {
     "name": "stderr",
     "output_type": "stream",
     "text": [
      "Evaluation: 100%|██████████| 446/446 [00:19<00:00, 22.96it/s]\n",
      "Epoch 20 / 100: 100%|██████████| 446/446 [00:28<00:00, 15.79it/s]\n"
     ]
    },
    {
     "name": "stdout",
     "output_type": "stream",
     "text": [
      "Classes weights: [0.1393353 0.8606647]\n"
     ]
    },
    {
     "name": "stderr",
     "output_type": "stream",
     "text": [
      "Evaluation: 100%|██████████| 446/446 [00:20<00:00, 21.91it/s]\n",
      "Epoch 21 / 100: 100%|██████████| 446/446 [00:28<00:00, 15.49it/s]\n"
     ]
    },
    {
     "name": "stdout",
     "output_type": "stream",
     "text": [
      "Classes weights: [0.1393353 0.8606647]\n"
     ]
    },
    {
     "name": "stderr",
     "output_type": "stream",
     "text": [
      "Evaluation: 100%|██████████| 446/446 [00:19<00:00, 22.45it/s]\n",
      "Epoch 22 / 100: 100%|██████████| 446/446 [00:29<00:00, 15.04it/s]\n"
     ]
    },
    {
     "name": "stdout",
     "output_type": "stream",
     "text": [
      "Classes weights: [0.1393353 0.8606647]\n"
     ]
    },
    {
     "name": "stderr",
     "output_type": "stream",
     "text": [
      "Evaluation: 100%|██████████| 446/446 [00:19<00:00, 22.84it/s]\n",
      "Epoch 23 / 100: 100%|██████████| 446/446 [00:30<00:00, 14.39it/s]\n"
     ]
    },
    {
     "name": "stdout",
     "output_type": "stream",
     "text": [
      "Classes weights: [0.1393353 0.8606647]\n"
     ]
    },
    {
     "name": "stderr",
     "output_type": "stream",
     "text": [
      "Evaluation: 100%|██████████| 446/446 [00:26<00:00, 16.74it/s]\n",
      "Epoch 24 / 100: 100%|██████████| 446/446 [00:31<00:00, 13.99it/s]\n"
     ]
    },
    {
     "name": "stdout",
     "output_type": "stream",
     "text": [
      "Classes weights: [0.1393353 0.8606647]\n"
     ]
    },
    {
     "name": "stderr",
     "output_type": "stream",
     "text": [
      "Evaluation: 100%|██████████| 446/446 [00:26<00:00, 17.13it/s]\n",
      "Epoch 25 / 100: 100%|██████████| 446/446 [00:27<00:00, 16.52it/s]\n"
     ]
    },
    {
     "name": "stdout",
     "output_type": "stream",
     "text": [
      "Classes weights: [0.1393353 0.8606647]\n"
     ]
    },
    {
     "name": "stderr",
     "output_type": "stream",
     "text": [
      "Evaluation: 100%|██████████| 446/446 [00:19<00:00, 22.93it/s]\n",
      "Epoch 26 / 100: 100%|██████████| 446/446 [00:27<00:00, 16.08it/s]\n"
     ]
    },
    {
     "name": "stdout",
     "output_type": "stream",
     "text": [
      "Classes weights: [0.1393353 0.8606647]\n"
     ]
    },
    {
     "name": "stderr",
     "output_type": "stream",
     "text": [
      "Evaluation: 100%|██████████| 446/446 [00:19<00:00, 22.93it/s]\n",
      "Epoch 27 / 100: 100%|██████████| 446/446 [00:28<00:00, 15.71it/s]\n"
     ]
    },
    {
     "name": "stdout",
     "output_type": "stream",
     "text": [
      "Classes weights: [0.1393353 0.8606647]\n"
     ]
    },
    {
     "name": "stderr",
     "output_type": "stream",
     "text": [
      "Evaluation: 100%|██████████| 446/446 [00:20<00:00, 22.15it/s]\n",
      "Epoch 28 / 100: 100%|██████████| 446/446 [00:28<00:00, 15.83it/s]\n"
     ]
    },
    {
     "name": "stdout",
     "output_type": "stream",
     "text": [
      "Classes weights: [0.1393353 0.8606647]\n"
     ]
    },
    {
     "name": "stderr",
     "output_type": "stream",
     "text": [
      "Evaluation: 100%|██████████| 446/446 [00:19<00:00, 22.47it/s]\n",
      "Epoch 29 / 100: 100%|██████████| 446/446 [00:28<00:00, 15.85it/s]\n"
     ]
    },
    {
     "name": "stdout",
     "output_type": "stream",
     "text": [
      "Classes weights: [0.1393353 0.8606647]\n"
     ]
    },
    {
     "name": "stderr",
     "output_type": "stream",
     "text": [
      "Evaluation: 100%|██████████| 446/446 [00:19<00:00, 23.19it/s]\n",
      "Epoch 30 / 100: 100%|██████████| 446/446 [00:28<00:00, 15.83it/s]\n"
     ]
    },
    {
     "name": "stdout",
     "output_type": "stream",
     "text": [
      "Classes weights: [0.1393353 0.8606647]\n"
     ]
    },
    {
     "name": "stderr",
     "output_type": "stream",
     "text": [
      "Evaluation: 100%|██████████| 446/446 [00:19<00:00, 22.81it/s]\n",
      "Epoch 31 / 100: 100%|██████████| 446/446 [00:28<00:00, 15.81it/s]\n"
     ]
    },
    {
     "name": "stdout",
     "output_type": "stream",
     "text": [
      "Classes weights: [0.1393353 0.8606647]\n"
     ]
    },
    {
     "name": "stderr",
     "output_type": "stream",
     "text": [
      "Evaluation: 100%|██████████| 446/446 [00:19<00:00, 22.86it/s]\n",
      "Epoch 32 / 100: 100%|██████████| 446/446 [00:28<00:00, 15.88it/s]\n"
     ]
    },
    {
     "name": "stdout",
     "output_type": "stream",
     "text": [
      "Classes weights: [0.1393353 0.8606647]\n"
     ]
    },
    {
     "name": "stderr",
     "output_type": "stream",
     "text": [
      "Evaluation: 100%|██████████| 446/446 [00:19<00:00, 23.03it/s]\n",
      "Epoch 33 / 100: 100%|██████████| 446/446 [00:28<00:00, 15.80it/s]\n"
     ]
    },
    {
     "name": "stdout",
     "output_type": "stream",
     "text": [
      "Classes weights: [0.1393353 0.8606647]\n"
     ]
    },
    {
     "name": "stderr",
     "output_type": "stream",
     "text": [
      "Evaluation: 100%|██████████| 446/446 [00:19<00:00, 23.03it/s]\n",
      "Epoch 34 / 100: 100%|██████████| 446/446 [00:27<00:00, 15.97it/s]\n"
     ]
    },
    {
     "name": "stdout",
     "output_type": "stream",
     "text": [
      "Classes weights: [0.1393353 0.8606647]\n"
     ]
    },
    {
     "name": "stderr",
     "output_type": "stream",
     "text": [
      "Evaluation: 100%|██████████| 446/446 [00:19<00:00, 23.09it/s]\n",
      "Epoch 35 / 100: 100%|██████████| 446/446 [00:28<00:00, 15.72it/s]\n"
     ]
    },
    {
     "name": "stdout",
     "output_type": "stream",
     "text": [
      "Classes weights: [0.1393353 0.8606647]\n"
     ]
    },
    {
     "name": "stderr",
     "output_type": "stream",
     "text": [
      "Evaluation: 100%|██████████| 446/446 [00:19<00:00, 23.30it/s]\n",
      "Epoch 36 / 100: 100%|██████████| 446/446 [00:28<00:00, 15.51it/s]\n"
     ]
    },
    {
     "name": "stdout",
     "output_type": "stream",
     "text": [
      "Classes weights: [0.1393353 0.8606647]\n"
     ]
    },
    {
     "name": "stderr",
     "output_type": "stream",
     "text": [
      "Evaluation: 100%|██████████| 446/446 [00:19<00:00, 22.62it/s]\n",
      "Epoch 37 / 100: 100%|██████████| 446/446 [00:28<00:00, 15.66it/s]\n"
     ]
    },
    {
     "name": "stdout",
     "output_type": "stream",
     "text": [
      "Classes weights: [0.1393353 0.8606647]\n"
     ]
    },
    {
     "name": "stderr",
     "output_type": "stream",
     "text": [
      "Evaluation: 100%|██████████| 446/446 [00:19<00:00, 22.65it/s]\n",
      "Epoch 38 / 100: 100%|██████████| 446/446 [00:28<00:00, 15.87it/s]\n"
     ]
    },
    {
     "name": "stdout",
     "output_type": "stream",
     "text": [
      "Classes weights: [0.1393353 0.8606647]\n"
     ]
    },
    {
     "name": "stderr",
     "output_type": "stream",
     "text": [
      "Evaluation: 100%|██████████| 446/446 [00:19<00:00, 22.64it/s]\n",
      "Epoch 39 / 100: 100%|██████████| 446/446 [00:28<00:00, 15.83it/s]\n"
     ]
    },
    {
     "name": "stdout",
     "output_type": "stream",
     "text": [
      "Classes weights: [0.1393353 0.8606647]\n"
     ]
    },
    {
     "name": "stderr",
     "output_type": "stream",
     "text": [
      "Evaluation: 100%|██████████| 446/446 [00:19<00:00, 23.19it/s]\n",
      "Epoch 40 / 100: 100%|██████████| 446/446 [00:27<00:00, 15.96it/s]\n"
     ]
    },
    {
     "name": "stdout",
     "output_type": "stream",
     "text": [
      "Classes weights: [0.1393353 0.8606647]\n"
     ]
    },
    {
     "name": "stderr",
     "output_type": "stream",
     "text": [
      "Evaluation: 100%|██████████| 446/446 [00:18<00:00, 23.60it/s]\n",
      "Epoch 41 / 100: 100%|██████████| 446/446 [00:27<00:00, 16.09it/s]\n"
     ]
    },
    {
     "name": "stdout",
     "output_type": "stream",
     "text": [
      "Classes weights: [0.1393353 0.8606647]\n"
     ]
    },
    {
     "name": "stderr",
     "output_type": "stream",
     "text": [
      "Evaluation: 100%|██████████| 446/446 [00:19<00:00, 23.29it/s]\n",
      "Epoch 42 / 100: 100%|██████████| 446/446 [00:28<00:00, 15.84it/s]\n"
     ]
    },
    {
     "name": "stdout",
     "output_type": "stream",
     "text": [
      "Classes weights: [0.1393353 0.8606647]\n"
     ]
    },
    {
     "name": "stderr",
     "output_type": "stream",
     "text": [
      "Evaluation: 100%|██████████| 446/446 [00:18<00:00, 23.49it/s]\n",
      "Epoch 43 / 100: 100%|██████████| 446/446 [00:28<00:00, 15.87it/s]\n"
     ]
    },
    {
     "name": "stdout",
     "output_type": "stream",
     "text": [
      "Classes weights: [0.1393353 0.8606647]\n"
     ]
    },
    {
     "name": "stderr",
     "output_type": "stream",
     "text": [
      "Evaluation: 100%|██████████| 446/446 [00:18<00:00, 23.86it/s]\n",
      "Epoch 44 / 100: 100%|██████████| 446/446 [00:29<00:00, 15.26it/s]\n"
     ]
    },
    {
     "name": "stdout",
     "output_type": "stream",
     "text": [
      "Classes weights: [0.1393353 0.8606647]\n"
     ]
    },
    {
     "name": "stderr",
     "output_type": "stream",
     "text": [
      "Evaluation: 100%|██████████| 446/446 [00:19<00:00, 22.64it/s]\n",
      "Epoch 45 / 100: 100%|██████████| 446/446 [00:28<00:00, 15.83it/s]\n"
     ]
    },
    {
     "name": "stdout",
     "output_type": "stream",
     "text": [
      "Classes weights: [0.1393353 0.8606647]\n"
     ]
    },
    {
     "name": "stderr",
     "output_type": "stream",
     "text": [
      "Evaluation: 100%|██████████| 446/446 [00:18<00:00, 23.55it/s]\n",
      "Epoch 46 / 100: 100%|██████████| 446/446 [00:28<00:00, 15.84it/s]\n"
     ]
    },
    {
     "name": "stdout",
     "output_type": "stream",
     "text": [
      "Classes weights: [0.1393353 0.8606647]\n"
     ]
    },
    {
     "name": "stderr",
     "output_type": "stream",
     "text": [
      "Evaluation: 100%|██████████| 446/446 [00:19<00:00, 23.27it/s]\n",
      "Epoch 47 / 100: 100%|██████████| 446/446 [00:28<00:00, 15.84it/s]\n"
     ]
    },
    {
     "name": "stdout",
     "output_type": "stream",
     "text": [
      "Classes weights: [0.1393353 0.8606647]\n"
     ]
    },
    {
     "name": "stderr",
     "output_type": "stream",
     "text": [
      "Evaluation: 100%|██████████| 446/446 [00:19<00:00, 22.82it/s]\n",
      "Epoch 48 / 100: 100%|██████████| 446/446 [00:28<00:00, 15.80it/s]\n"
     ]
    },
    {
     "name": "stdout",
     "output_type": "stream",
     "text": [
      "Classes weights: [0.1393353 0.8606647]\n"
     ]
    },
    {
     "name": "stderr",
     "output_type": "stream",
     "text": [
      "Evaluation: 100%|██████████| 446/446 [00:19<00:00, 22.77it/s]\n",
      "Epoch 49 / 100: 100%|██████████| 446/446 [00:27<00:00, 15.97it/s]\n"
     ]
    },
    {
     "name": "stdout",
     "output_type": "stream",
     "text": [
      "Classes weights: [0.1393353 0.8606647]\n"
     ]
    },
    {
     "name": "stderr",
     "output_type": "stream",
     "text": [
      "Evaluation: 100%|██████████| 446/446 [00:19<00:00, 23.39it/s]\n",
      "Epoch 50 / 100: 100%|██████████| 446/446 [00:28<00:00, 15.83it/s]\n"
     ]
    },
    {
     "name": "stdout",
     "output_type": "stream",
     "text": [
      "Classes weights: [0.1393353 0.8606647]\n"
     ]
    },
    {
     "name": "stderr",
     "output_type": "stream",
     "text": [
      "Evaluation: 100%|██████████| 446/446 [00:19<00:00, 22.44it/s]\n",
      "Epoch 51 / 100: 100%|██████████| 446/446 [00:28<00:00, 15.91it/s]\n"
     ]
    },
    {
     "name": "stdout",
     "output_type": "stream",
     "text": [
      "Classes weights: [0.1393353 0.8606647]\n"
     ]
    },
    {
     "name": "stderr",
     "output_type": "stream",
     "text": [
      "Evaluation: 100%|██████████| 446/446 [00:19<00:00, 22.98it/s]\n",
      "Epoch 52 / 100: 100%|██████████| 446/446 [00:28<00:00, 15.83it/s]\n"
     ]
    },
    {
     "name": "stdout",
     "output_type": "stream",
     "text": [
      "Classes weights: [0.1393353 0.8606647]\n"
     ]
    },
    {
     "name": "stderr",
     "output_type": "stream",
     "text": [
      "Evaluation: 100%|██████████| 446/446 [00:19<00:00, 22.90it/s]\n",
      "Epoch 53 / 100: 100%|██████████| 446/446 [00:28<00:00, 15.77it/s]\n"
     ]
    },
    {
     "name": "stdout",
     "output_type": "stream",
     "text": [
      "Classes weights: [0.1393353 0.8606647]\n"
     ]
    },
    {
     "name": "stderr",
     "output_type": "stream",
     "text": [
      "Evaluation: 100%|██████████| 446/446 [00:18<00:00, 23.48it/s]\n",
      "Epoch 54 / 100: 100%|██████████| 446/446 [00:28<00:00, 15.86it/s]\n"
     ]
    },
    {
     "name": "stdout",
     "output_type": "stream",
     "text": [
      "Classes weights: [0.1393353 0.8606647]\n"
     ]
    },
    {
     "name": "stderr",
     "output_type": "stream",
     "text": [
      "Evaluation: 100%|██████████| 446/446 [00:19<00:00, 22.87it/s]\n",
      "Epoch 55 / 100: 100%|██████████| 446/446 [00:29<00:00, 15.32it/s]\n"
     ]
    },
    {
     "name": "stdout",
     "output_type": "stream",
     "text": [
      "Classes weights: [0.1393353 0.8606647]\n"
     ]
    },
    {
     "name": "stderr",
     "output_type": "stream",
     "text": [
      "Evaluation: 100%|██████████| 446/446 [00:20<00:00, 22.21it/s]\n",
      "Epoch 56 / 100: 100%|██████████| 446/446 [00:29<00:00, 15.23it/s]\n"
     ]
    },
    {
     "name": "stdout",
     "output_type": "stream",
     "text": [
      "Classes weights: [0.1393353 0.8606647]\n"
     ]
    },
    {
     "name": "stderr",
     "output_type": "stream",
     "text": [
      "Evaluation: 100%|██████████| 446/446 [00:19<00:00, 23.00it/s]\n",
      "Epoch 57 / 100: 100%|██████████| 446/446 [00:28<00:00, 15.62it/s]\n"
     ]
    },
    {
     "name": "stdout",
     "output_type": "stream",
     "text": [
      "Classes weights: [0.1393353 0.8606647]\n"
     ]
    },
    {
     "name": "stderr",
     "output_type": "stream",
     "text": [
      "Evaluation: 100%|██████████| 446/446 [00:19<00:00, 22.51it/s]\n",
      "Epoch 58 / 100: 100%|██████████| 446/446 [00:28<00:00, 15.65it/s]\n"
     ]
    },
    {
     "name": "stdout",
     "output_type": "stream",
     "text": [
      "Classes weights: [0.1393353 0.8606647]\n"
     ]
    },
    {
     "name": "stderr",
     "output_type": "stream",
     "text": [
      "Evaluation: 100%|██████████| 446/446 [00:20<00:00, 22.08it/s]\n",
      "Epoch 59 / 100: 100%|██████████| 446/446 [00:28<00:00, 15.86it/s]\n"
     ]
    },
    {
     "name": "stdout",
     "output_type": "stream",
     "text": [
      "Classes weights: [0.1393353 0.8606647]\n"
     ]
    },
    {
     "name": "stderr",
     "output_type": "stream",
     "text": [
      "Evaluation: 100%|██████████| 446/446 [00:19<00:00, 23.05it/s]\n",
      "Epoch 60 / 100: 100%|██████████| 446/446 [00:28<00:00, 15.72it/s]\n"
     ]
    },
    {
     "name": "stdout",
     "output_type": "stream",
     "text": [
      "Classes weights: [0.1393353 0.8606647]\n"
     ]
    },
    {
     "name": "stderr",
     "output_type": "stream",
     "text": [
      "Evaluation: 100%|██████████| 446/446 [00:19<00:00, 23.25it/s]\n",
      "Epoch 61 / 100: 100%|██████████| 446/446 [00:28<00:00, 15.68it/s]\n"
     ]
    },
    {
     "name": "stdout",
     "output_type": "stream",
     "text": [
      "Classes weights: [0.1393353 0.8606647]\n"
     ]
    },
    {
     "name": "stderr",
     "output_type": "stream",
     "text": [
      "Evaluation: 100%|██████████| 446/446 [00:18<00:00, 23.81it/s]\n",
      "Epoch 62 / 100: 100%|██████████| 446/446 [00:28<00:00, 15.80it/s]\n"
     ]
    },
    {
     "name": "stdout",
     "output_type": "stream",
     "text": [
      "Classes weights: [0.1393353 0.8606647]\n"
     ]
    },
    {
     "name": "stderr",
     "output_type": "stream",
     "text": [
      "Evaluation: 100%|██████████| 446/446 [00:19<00:00, 22.80it/s]\n",
      "Epoch 63 / 100: 100%|██████████| 446/446 [00:28<00:00, 15.72it/s]\n"
     ]
    },
    {
     "name": "stdout",
     "output_type": "stream",
     "text": [
      "Classes weights: [0.1393353 0.8606647]\n"
     ]
    },
    {
     "name": "stderr",
     "output_type": "stream",
     "text": [
      "Evaluation: 100%|██████████| 446/446 [00:19<00:00, 23.29it/s]\n",
      "Epoch 64 / 100: 100%|██████████| 446/446 [00:28<00:00, 15.70it/s]\n"
     ]
    },
    {
     "name": "stdout",
     "output_type": "stream",
     "text": [
      "Classes weights: [0.1393353 0.8606647]\n"
     ]
    },
    {
     "name": "stderr",
     "output_type": "stream",
     "text": [
      "Evaluation: 100%|██████████| 446/446 [00:19<00:00, 22.93it/s]\n",
      "Epoch 65 / 100: 100%|██████████| 446/446 [00:28<00:00, 15.91it/s]\n"
     ]
    },
    {
     "name": "stdout",
     "output_type": "stream",
     "text": [
      "Classes weights: [0.1393353 0.8606647]\n"
     ]
    },
    {
     "name": "stderr",
     "output_type": "stream",
     "text": [
      "Evaluation: 100%|██████████| 446/446 [00:18<00:00, 23.48it/s]\n",
      "Epoch 66 / 100: 100%|██████████| 446/446 [00:28<00:00, 15.75it/s]\n"
     ]
    },
    {
     "name": "stdout",
     "output_type": "stream",
     "text": [
      "Classes weights: [0.1393353 0.8606647]\n"
     ]
    },
    {
     "name": "stderr",
     "output_type": "stream",
     "text": [
      "Evaluation: 100%|██████████| 446/446 [00:19<00:00, 22.43it/s]\n",
      "Epoch 67 / 100: 100%|██████████| 446/446 [00:28<00:00, 15.83it/s]\n"
     ]
    },
    {
     "name": "stdout",
     "output_type": "stream",
     "text": [
      "Classes weights: [0.1393353 0.8606647]\n"
     ]
    },
    {
     "name": "stderr",
     "output_type": "stream",
     "text": [
      "Evaluation: 100%|██████████| 446/446 [00:19<00:00, 22.76it/s]\n",
      "Epoch 68 / 100: 100%|██████████| 446/446 [00:27<00:00, 15.93it/s]\n"
     ]
    },
    {
     "name": "stdout",
     "output_type": "stream",
     "text": [
      "Classes weights: [0.1393353 0.8606647]\n"
     ]
    },
    {
     "name": "stderr",
     "output_type": "stream",
     "text": [
      "Evaluation: 100%|██████████| 446/446 [00:19<00:00, 22.63it/s]\n",
      "Epoch 69 / 100: 100%|██████████| 446/446 [00:28<00:00, 15.62it/s]\n"
     ]
    },
    {
     "name": "stdout",
     "output_type": "stream",
     "text": [
      "Classes weights: [0.1393353 0.8606647]\n"
     ]
    },
    {
     "name": "stderr",
     "output_type": "stream",
     "text": [
      "Evaluation: 100%|██████████| 446/446 [00:19<00:00, 23.22it/s]\n",
      "Epoch 70 / 100: 100%|██████████| 446/446 [00:28<00:00, 15.63it/s]\n"
     ]
    },
    {
     "name": "stdout",
     "output_type": "stream",
     "text": [
      "Classes weights: [0.1393353 0.8606647]\n"
     ]
    },
    {
     "name": "stderr",
     "output_type": "stream",
     "text": [
      "Evaluation: 100%|██████████| 446/446 [00:19<00:00, 22.71it/s]\n",
      "Epoch 71 / 100: 100%|██████████| 446/446 [00:28<00:00, 15.78it/s]\n"
     ]
    },
    {
     "name": "stdout",
     "output_type": "stream",
     "text": [
      "Classes weights: [0.1393353 0.8606647]\n"
     ]
    },
    {
     "name": "stderr",
     "output_type": "stream",
     "text": [
      "Evaluation: 100%|██████████| 446/446 [00:19<00:00, 23.43it/s]\n",
      "Epoch 72 / 100: 100%|██████████| 446/446 [00:30<00:00, 14.68it/s]\n"
     ]
    },
    {
     "name": "stdout",
     "output_type": "stream",
     "text": [
      "Classes weights: [0.1393353 0.8606647]\n"
     ]
    },
    {
     "name": "stderr",
     "output_type": "stream",
     "text": [
      "Evaluation: 100%|██████████| 446/446 [00:19<00:00, 22.97it/s]\n",
      "Epoch 73 / 100: 100%|██████████| 446/446 [00:28<00:00, 15.90it/s]\n"
     ]
    },
    {
     "name": "stdout",
     "output_type": "stream",
     "text": [
      "Classes weights: [0.1393353 0.8606647]\n"
     ]
    },
    {
     "name": "stderr",
     "output_type": "stream",
     "text": [
      "Evaluation: 100%|██████████| 446/446 [00:19<00:00, 23.06it/s]\n",
      "Epoch 74 / 100: 100%|██████████| 446/446 [00:28<00:00, 15.47it/s]\n"
     ]
    },
    {
     "name": "stdout",
     "output_type": "stream",
     "text": [
      "Classes weights: [0.1393353 0.8606647]\n"
     ]
    },
    {
     "name": "stderr",
     "output_type": "stream",
     "text": [
      "Evaluation: 100%|██████████| 446/446 [00:19<00:00, 22.70it/s]\n",
      "Epoch 75 / 100: 100%|██████████| 446/446 [00:28<00:00, 15.64it/s]\n"
     ]
    },
    {
     "name": "stdout",
     "output_type": "stream",
     "text": [
      "Classes weights: [0.1393353 0.8606647]\n"
     ]
    },
    {
     "name": "stderr",
     "output_type": "stream",
     "text": [
      "Evaluation: 100%|██████████| 446/446 [00:19<00:00, 23.20it/s]\n",
      "Epoch 76 / 100: 100%|██████████| 446/446 [00:28<00:00, 15.80it/s]\n"
     ]
    },
    {
     "name": "stdout",
     "output_type": "stream",
     "text": [
      "Classes weights: [0.1393353 0.8606647]\n"
     ]
    },
    {
     "name": "stderr",
     "output_type": "stream",
     "text": [
      "Evaluation: 100%|██████████| 446/446 [00:19<00:00, 22.55it/s]\n",
      "Epoch 77 / 100: 100%|██████████| 446/446 [00:28<00:00, 15.60it/s]\n"
     ]
    },
    {
     "name": "stdout",
     "output_type": "stream",
     "text": [
      "Classes weights: [0.1393353 0.8606647]\n"
     ]
    },
    {
     "name": "stderr",
     "output_type": "stream",
     "text": [
      "Evaluation: 100%|██████████| 446/446 [00:19<00:00, 23.06it/s]\n",
      "Epoch 78 / 100: 100%|██████████| 446/446 [00:28<00:00, 15.82it/s]\n"
     ]
    },
    {
     "name": "stdout",
     "output_type": "stream",
     "text": [
      "Classes weights: [0.1393353 0.8606647]\n"
     ]
    },
    {
     "name": "stderr",
     "output_type": "stream",
     "text": [
      "Evaluation: 100%|██████████| 446/446 [00:19<00:00, 23.07it/s]\n",
      "Epoch 79 / 100: 100%|██████████| 446/446 [00:28<00:00, 15.79it/s]\n"
     ]
    },
    {
     "name": "stdout",
     "output_type": "stream",
     "text": [
      "Classes weights: [0.1393353 0.8606647]\n"
     ]
    },
    {
     "name": "stderr",
     "output_type": "stream",
     "text": [
      "Evaluation: 100%|██████████| 446/446 [00:19<00:00, 23.24it/s]\n",
      "Epoch 80 / 100: 100%|██████████| 446/446 [00:28<00:00, 15.75it/s]\n"
     ]
    },
    {
     "name": "stdout",
     "output_type": "stream",
     "text": [
      "Classes weights: [0.1393353 0.8606647]\n"
     ]
    },
    {
     "name": "stderr",
     "output_type": "stream",
     "text": [
      "Evaluation: 100%|██████████| 446/446 [00:19<00:00, 22.97it/s]\n",
      "Epoch 81 / 100: 100%|██████████| 446/446 [00:28<00:00, 15.71it/s]\n"
     ]
    },
    {
     "name": "stdout",
     "output_type": "stream",
     "text": [
      "Classes weights: [0.1393353 0.8606647]\n"
     ]
    },
    {
     "name": "stderr",
     "output_type": "stream",
     "text": [
      "Evaluation: 100%|██████████| 446/446 [00:19<00:00, 22.70it/s]\n",
      "Epoch 82 / 100: 100%|██████████| 446/446 [00:28<00:00, 15.39it/s]\n"
     ]
    },
    {
     "name": "stdout",
     "output_type": "stream",
     "text": [
      "Classes weights: [0.1393353 0.8606647]\n"
     ]
    },
    {
     "name": "stderr",
     "output_type": "stream",
     "text": [
      "Evaluation: 100%|██████████| 446/446 [00:23<00:00, 19.35it/s]\n",
      "Epoch 83 / 100: 100%|██████████| 446/446 [00:29<00:00, 15.17it/s]\n"
     ]
    },
    {
     "name": "stdout",
     "output_type": "stream",
     "text": [
      "Classes weights: [0.1393353 0.8606647]\n"
     ]
    },
    {
     "name": "stderr",
     "output_type": "stream",
     "text": [
      "Evaluation: 100%|██████████| 446/446 [00:19<00:00, 22.87it/s]\n",
      "Epoch 84 / 100: 100%|██████████| 446/446 [00:28<00:00, 15.60it/s]\n"
     ]
    },
    {
     "name": "stdout",
     "output_type": "stream",
     "text": [
      "Classes weights: [0.1393353 0.8606647]\n"
     ]
    },
    {
     "name": "stderr",
     "output_type": "stream",
     "text": [
      "Evaluation: 100%|██████████| 446/446 [00:19<00:00, 22.96it/s]\n",
      "Epoch 85 / 100: 100%|██████████| 446/446 [00:28<00:00, 15.72it/s]\n"
     ]
    },
    {
     "name": "stdout",
     "output_type": "stream",
     "text": [
      "Classes weights: [0.1393353 0.8606647]\n"
     ]
    },
    {
     "name": "stderr",
     "output_type": "stream",
     "text": [
      "Evaluation: 100%|██████████| 446/446 [00:19<00:00, 23.15it/s]\n",
      "Epoch 86 / 100: 100%|██████████| 446/446 [00:28<00:00, 15.80it/s]\n"
     ]
    },
    {
     "name": "stdout",
     "output_type": "stream",
     "text": [
      "Classes weights: [0.1393353 0.8606647]\n"
     ]
    },
    {
     "name": "stderr",
     "output_type": "stream",
     "text": [
      "Evaluation: 100%|██████████| 446/446 [00:18<00:00, 23.92it/s]\n",
      "Epoch 87 / 100: 100%|██████████| 446/446 [00:28<00:00, 15.72it/s]\n"
     ]
    },
    {
     "name": "stdout",
     "output_type": "stream",
     "text": [
      "Classes weights: [0.1393353 0.8606647]\n"
     ]
    },
    {
     "name": "stderr",
     "output_type": "stream",
     "text": [
      "Evaluation: 100%|██████████| 446/446 [00:19<00:00, 23.20it/s]\n",
      "Epoch 88 / 100: 100%|██████████| 446/446 [00:28<00:00, 15.79it/s]\n"
     ]
    },
    {
     "name": "stdout",
     "output_type": "stream",
     "text": [
      "Classes weights: [0.1393353 0.8606647]\n"
     ]
    },
    {
     "name": "stderr",
     "output_type": "stream",
     "text": [
      "Evaluation: 100%|██████████| 446/446 [00:19<00:00, 23.25it/s]\n",
      "Epoch 89 / 100: 100%|██████████| 446/446 [00:28<00:00, 15.65it/s]\n"
     ]
    },
    {
     "name": "stdout",
     "output_type": "stream",
     "text": [
      "Classes weights: [0.1393353 0.8606647]\n"
     ]
    },
    {
     "name": "stderr",
     "output_type": "stream",
     "text": [
      "Evaluation: 100%|██████████| 446/446 [00:19<00:00, 22.87it/s]\n",
      "Epoch 90 / 100: 100%|██████████| 446/446 [00:28<00:00, 15.88it/s]\n"
     ]
    },
    {
     "name": "stdout",
     "output_type": "stream",
     "text": [
      "Classes weights: [0.1393353 0.8606647]\n"
     ]
    },
    {
     "name": "stderr",
     "output_type": "stream",
     "text": [
      "Evaluation: 100%|██████████| 446/446 [00:23<00:00, 18.70it/s]\n",
      "Epoch 91 / 100: 100%|██████████| 446/446 [00:32<00:00, 13.91it/s]\n"
     ]
    },
    {
     "name": "stdout",
     "output_type": "stream",
     "text": [
      "Classes weights: [0.1393353 0.8606647]\n"
     ]
    },
    {
     "name": "stderr",
     "output_type": "stream",
     "text": [
      "Evaluation: 100%|██████████| 446/446 [00:19<00:00, 22.62it/s]\n",
      "Epoch 92 / 100: 100%|██████████| 446/446 [00:29<00:00, 15.36it/s]\n"
     ]
    },
    {
     "name": "stdout",
     "output_type": "stream",
     "text": [
      "Classes weights: [0.1393353 0.8606647]\n"
     ]
    },
    {
     "name": "stderr",
     "output_type": "stream",
     "text": [
      "Evaluation: 100%|██████████| 446/446 [00:21<00:00, 21.10it/s]\n",
      "Epoch 93 / 100: 100%|██████████| 446/446 [00:28<00:00, 15.73it/s]\n"
     ]
    },
    {
     "name": "stdout",
     "output_type": "stream",
     "text": [
      "Classes weights: [0.1393353 0.8606647]\n"
     ]
    },
    {
     "name": "stderr",
     "output_type": "stream",
     "text": [
      "Evaluation: 100%|██████████| 446/446 [00:20<00:00, 21.98it/s]\n",
      "Epoch 94 / 100: 100%|██████████| 446/446 [00:28<00:00, 15.62it/s]\n"
     ]
    },
    {
     "name": "stdout",
     "output_type": "stream",
     "text": [
      "Classes weights: [0.1393353 0.8606647]\n"
     ]
    },
    {
     "name": "stderr",
     "output_type": "stream",
     "text": [
      "Evaluation: 100%|██████████| 446/446 [00:19<00:00, 22.71it/s]\n",
      "Epoch 95 / 100: 100%|██████████| 446/446 [00:28<00:00, 15.47it/s]\n"
     ]
    },
    {
     "name": "stdout",
     "output_type": "stream",
     "text": [
      "Classes weights: [0.1393353 0.8606647]\n"
     ]
    },
    {
     "name": "stderr",
     "output_type": "stream",
     "text": [
      "Evaluation: 100%|██████████| 446/446 [00:20<00:00, 22.19it/s]\n",
      "Epoch 96 / 100: 100%|██████████| 446/446 [00:28<00:00, 15.73it/s]\n"
     ]
    },
    {
     "name": "stdout",
     "output_type": "stream",
     "text": [
      "Classes weights: [0.1393353 0.8606647]\n"
     ]
    },
    {
     "name": "stderr",
     "output_type": "stream",
     "text": [
      "Evaluation: 100%|██████████| 446/446 [00:19<00:00, 22.83it/s]\n",
      "Epoch 97 / 100: 100%|██████████| 446/446 [00:28<00:00, 15.71it/s]\n"
     ]
    },
    {
     "name": "stdout",
     "output_type": "stream",
     "text": [
      "Classes weights: [0.1393353 0.8606647]\n"
     ]
    },
    {
     "name": "stderr",
     "output_type": "stream",
     "text": [
      "Evaluation: 100%|██████████| 446/446 [00:19<00:00, 22.76it/s]\n",
      "Epoch 98 / 100: 100%|██████████| 446/446 [00:28<00:00, 15.88it/s]\n"
     ]
    },
    {
     "name": "stdout",
     "output_type": "stream",
     "text": [
      "Classes weights: [0.1393353 0.8606647]\n"
     ]
    },
    {
     "name": "stderr",
     "output_type": "stream",
     "text": [
      "Evaluation: 100%|██████████| 446/446 [00:19<00:00, 22.76it/s]\n",
      "Epoch 99 / 100: 100%|██████████| 446/446 [00:27<00:00, 16.05it/s]\n"
     ]
    },
    {
     "name": "stdout",
     "output_type": "stream",
     "text": [
      "Classes weights: [0.1393353 0.8606647]\n"
     ]
    },
    {
     "name": "stderr",
     "output_type": "stream",
     "text": [
      "Evaluation: 100%|██████████| 446/446 [00:19<00:00, 22.93it/s]\n",
      "\u001b[34m\u001b[1mwandb\u001b[0m: \u001b[32m\u001b[41mERROR\u001b[0m The nbformat package was not found. It is required to save notebook history.\n"
     ]
    },
    {
     "data": {
      "text/html": [],
      "text/plain": [
       "<IPython.core.display.HTML object>"
      ]
     },
     "metadata": {},
     "output_type": "display_data"
    },
    {
     "data": {
      "text/html": [
       "<br>    <style><br>        .wandb-row {<br>            display: flex;<br>            flex-direction: row;<br>            flex-wrap: wrap;<br>            justify-content: flex-start;<br>            width: 100%;<br>        }<br>        .wandb-col {<br>            display: flex;<br>            flex-direction: column;<br>            flex-basis: 100%;<br>            flex: 1;<br>            padding: 10px;<br>        }<br>    </style><br><div class=\"wandb-row\"><div class=\"wandb-col\"><h3>Run history:</h3><br/><table class=\"wandb\"><tr><td>epoch</td><td>▁▁▁▁▁▂▂▂▂▂▃▃▃▃▃▄▄▄▄▄▄▄▅▅▅▅▅▅▅▅▆▇▇▇▇▇▇███</td></tr><tr><td>loss_train</td><td>███▇▇▆▆▆▆▅▅▄▄▄▄▄▄▄▃▃▃▃▃▃▃▂▂▂▂▂▂▂▂▂▂▂▂▁▂▁</td></tr><tr><td>loss_val</td><td>▁▂▂▁▁▁▂▃▁▂▃▂▂▂▃▃▂▄▂▃▄▃▅▄▅▆▃▃▅▅▄▆▅▆▅▇▆▅▇█</td></tr><tr><td>recall0</td><td>▂▁▁▂▂▂▃▄▄▄▅▅▄▄▅▅▅▅▆▅▅▆▅▆▇▅▆▆▆▇▇▇▇▇▇▇▇▇██</td></tr><tr><td>recall0_val</td><td>▅▃█▆▆▅▄▅▃▃▃▃▄▄▄▃▃▃▂▄▃▄▁▂▄▂▂▃▂▂▄▃▃▃▃▄▃▄▃▄</td></tr><tr><td>recall1</td><td>▁▁▂▂▃▂▃▃▃▃▃▄▃▄▄▄▄▅▄▅▅▅▆▆▆▅▆▆▆▆▇▆▆▇▇▇▇▇▇█</td></tr><tr><td>recall1_val</td><td>▃▃▁▆▄▃▅▆▄██▅▅▅▆▇▇▅▆▆▃█▅▄▆▄▇▆▆▅▄▄▅▅▃▄▄▄▄▃</td></tr></table><br/></div><div class=\"wandb-col\"><h3>Run summary:</h3><br/><table class=\"wandb\"><tr><td>epoch</td><td>99</td></tr><tr><td>loss_train</td><td>0.45653</td></tr><tr><td>loss_val</td><td>1.18822</td></tr><tr><td>recall0</td><td>0.73335</td></tr><tr><td>recall0_val</td><td>0.55809</td></tr><tr><td>recall1</td><td>0.83286</td></tr><tr><td>recall1_val</td><td>0.80082</td></tr></table><br/></div></div>"
      ],
      "text/plain": [
       "<IPython.core.display.HTML object>"
      ]
     },
     "metadata": {},
     "output_type": "display_data"
    },
    {
     "data": {
      "text/html": [
       " View run <strong style=\"color:#cdcd00\">dataset2_sampler_ratios_augment_particio</strong> at: <a href='https://wandb.ai/tfg_pyh/tfg/runs/3ckb81v9' target=\"_blank\">https://wandb.ai/tfg_pyh/tfg/runs/3ckb81v9</a><br> View project at: <a href='https://wandb.ai/tfg_pyh/tfg' target=\"_blank\">https://wandb.ai/tfg_pyh/tfg</a><br>Synced 5 W&B file(s), 0 media file(s), 0 artifact file(s) and 0 other file(s)"
      ],
      "text/plain": [
       "<IPython.core.display.HTML object>"
      ]
     },
     "metadata": {},
     "output_type": "display_data"
    },
    {
     "data": {
      "text/html": [
       "Find logs at: <code>.\\wandb\\run-20250429_230136-3ckb81v9\\logs</code>"
      ],
      "text/plain": [
       "<IPython.core.display.HTML object>"
      ]
     },
     "metadata": {},
     "output_type": "display_data"
    },
    {
     "data": {
      "text/plain": [
       "{'loss': tensor(0.4985, device='cuda:0', grad_fn=<NllLossBackward0>),\n",
       " 'acc': tensor(0.7344, device='cuda:0'),\n",
       " 'y_prob': tensor([[9.2667e-01, 7.3328e-02],\n",
       "         [2.5548e-01, 7.4452e-01],\n",
       "         [9.9995e-01, 5.3221e-05],\n",
       "         [8.6062e-01, 1.3938e-01],\n",
       "         [3.1033e-01, 6.8967e-01],\n",
       "         [1.8388e-01, 8.1612e-01],\n",
       "         [9.9965e-01, 3.4973e-04],\n",
       "         [2.5726e-01, 7.4274e-01],\n",
       "         [9.9669e-01, 3.3147e-03],\n",
       "         [2.1538e-01, 7.8462e-01],\n",
       "         [2.5577e-01, 7.4423e-01],\n",
       "         [8.9392e-01, 1.0608e-01],\n",
       "         [9.8781e-01, 1.2195e-02],\n",
       "         [2.0890e-01, 7.9110e-01],\n",
       "         [6.5206e-01, 3.4794e-01],\n",
       "         [1.1470e-01, 8.8530e-01],\n",
       "         [9.8329e-01, 1.6709e-02],\n",
       "         [9.6741e-01, 3.2593e-02],\n",
       "         [9.8797e-01, 1.2027e-02],\n",
       "         [9.9996e-01, 3.8477e-05],\n",
       "         [6.0847e-01, 3.9153e-01],\n",
       "         [2.2811e-01, 7.7189e-01],\n",
       "         [2.3524e-01, 7.6476e-01],\n",
       "         [6.8142e-01, 3.1858e-01],\n",
       "         [7.4788e-01, 2.5212e-01],\n",
       "         [8.5498e-01, 1.4502e-01],\n",
       "         [4.2110e-01, 5.7890e-01],\n",
       "         [7.3347e-01, 2.6653e-01],\n",
       "         [8.9677e-01, 1.0323e-01],\n",
       "         [9.8479e-01, 1.5206e-02],\n",
       "         [3.9276e-01, 6.0724e-01],\n",
       "         [9.9955e-01, 4.4889e-04],\n",
       "         [1.7178e-01, 8.2822e-01],\n",
       "         [9.9897e-01, 1.0323e-03],\n",
       "         [2.1769e-01, 7.8231e-01],\n",
       "         [9.9144e-01, 8.5569e-03],\n",
       "         [9.9954e-01, 4.6102e-04],\n",
       "         [1.8359e-01, 8.1641e-01],\n",
       "         [1.3429e-01, 8.6571e-01],\n",
       "         [6.6852e-02, 9.3315e-01],\n",
       "         [9.9911e-01, 8.9086e-04],\n",
       "         [3.6817e-01, 6.3183e-01],\n",
       "         [9.9636e-01, 3.6365e-03],\n",
       "         [9.7357e-01, 2.6429e-02],\n",
       "         [9.8078e-01, 1.9219e-02],\n",
       "         [9.8865e-01, 1.1352e-02],\n",
       "         [7.0201e-01, 2.9799e-01],\n",
       "         [7.9863e-01, 2.0137e-01],\n",
       "         [8.5372e-01, 1.4628e-01],\n",
       "         [4.0256e-01, 5.9744e-01],\n",
       "         [6.1830e-01, 3.8170e-01],\n",
       "         [1.5024e-01, 8.4976e-01],\n",
       "         [9.9354e-01, 6.4621e-03],\n",
       "         [9.6923e-01, 3.0772e-02],\n",
       "         [2.7735e-01, 7.2265e-01],\n",
       "         [9.9498e-01, 5.0174e-03],\n",
       "         [1.2927e-01, 8.7073e-01],\n",
       "         [3.4795e-01, 6.5205e-01],\n",
       "         [7.0374e-01, 2.9626e-01],\n",
       "         [9.9950e-01, 5.0152e-04],\n",
       "         [1.4013e-01, 8.5987e-01],\n",
       "         [9.9096e-01, 9.0397e-03],\n",
       "         [2.8700e-01, 7.1300e-01],\n",
       "         [2.2581e-01, 7.7419e-01],\n",
       "         [4.5728e-01, 5.4272e-01],\n",
       "         [6.8897e-01, 3.1103e-01],\n",
       "         [9.9831e-01, 1.6853e-03],\n",
       "         [2.5760e-01, 7.4240e-01],\n",
       "         [3.4788e-01, 6.5212e-01],\n",
       "         [9.2550e-01, 7.4505e-02],\n",
       "         [9.9855e-01, 1.4480e-03],\n",
       "         [5.6984e-01, 4.3016e-01],\n",
       "         [9.5637e-01, 4.3634e-02],\n",
       "         [6.3533e-01, 3.6467e-01],\n",
       "         [9.7154e-01, 2.8455e-02],\n",
       "         [8.9521e-01, 1.0479e-01],\n",
       "         [9.7871e-01, 2.1286e-02],\n",
       "         [8.4328e-01, 1.5672e-01],\n",
       "         [5.1146e-01, 4.8854e-01],\n",
       "         [6.9545e-01, 3.0455e-01],\n",
       "         [8.0027e-01, 1.9973e-01],\n",
       "         [8.2411e-01, 1.7589e-01],\n",
       "         [6.0214e-01, 3.9786e-01],\n",
       "         [9.9887e-01, 1.1292e-03],\n",
       "         [2.6020e-01, 7.3980e-01],\n",
       "         [9.9635e-01, 3.6463e-03],\n",
       "         [9.8306e-01, 1.6939e-02],\n",
       "         [5.3090e-01, 4.6910e-01],\n",
       "         [7.0089e-01, 2.9911e-01],\n",
       "         [5.3258e-01, 4.6742e-01],\n",
       "         [1.0783e-01, 8.9217e-01],\n",
       "         [9.4483e-01, 5.5170e-02],\n",
       "         [4.0581e-01, 5.9419e-01],\n",
       "         [8.9360e-01, 1.0640e-01],\n",
       "         [9.3550e-01, 6.4497e-02],\n",
       "         [1.1879e-01, 8.8121e-01],\n",
       "         [4.2464e-01, 5.7536e-01],\n",
       "         [2.9700e-01, 7.0300e-01],\n",
       "         [3.9112e-01, 6.0888e-01],\n",
       "         [9.9839e-01, 1.6079e-03],\n",
       "         [9.6960e-01, 3.0403e-02],\n",
       "         [5.2071e-01, 4.7929e-01],\n",
       "         [2.7860e-01, 7.2140e-01],\n",
       "         [1.5206e-01, 8.4794e-01],\n",
       "         [9.9995e-01, 5.1918e-05],\n",
       "         [5.7746e-01, 4.2254e-01],\n",
       "         [1.4452e-01, 8.5548e-01],\n",
       "         [9.9599e-01, 4.0052e-03],\n",
       "         [7.9661e-01, 2.0339e-01],\n",
       "         [8.2784e-01, 1.7216e-01],\n",
       "         [9.8173e-01, 1.8268e-02],\n",
       "         [9.9996e-01, 4.3289e-05],\n",
       "         [6.7308e-01, 3.2692e-01],\n",
       "         [8.4090e-01, 1.5910e-01],\n",
       "         [9.9977e-01, 2.3491e-04],\n",
       "         [8.8048e-01, 1.1952e-01],\n",
       "         [9.9992e-01, 8.5038e-05],\n",
       "         [9.9997e-01, 3.3134e-05],\n",
       "         [4.3882e-01, 5.6118e-01],\n",
       "         [4.6064e-01, 5.3936e-01],\n",
       "         [7.7098e-02, 9.2290e-01],\n",
       "         [9.3351e-01, 6.6486e-02],\n",
       "         [4.6719e-01, 5.3281e-01],\n",
       "         [8.1149e-01, 1.8851e-01],\n",
       "         [9.9060e-01, 9.3968e-03],\n",
       "         [9.9921e-01, 7.9180e-04],\n",
       "         [5.4268e-01, 4.5732e-01],\n",
       "         [2.0028e-01, 7.9972e-01]], device='cuda:0', grad_fn=<SoftmaxBackward0>),\n",
       " 'y_true': tensor([0, 0, 0, 0, 1, 1, 0, 1, 0, 0, 0, 0, 0, 1, 0, 1, 0, 0, 0, 0, 0, 0, 0, 0,\n",
       "         0, 0, 0, 0, 0, 0, 1, 0, 0, 0, 0, 0, 0, 0, 0, 1, 0, 1, 0, 0, 0, 0, 0, 0,\n",
       "         0, 0, 0, 0, 0, 0, 0, 0, 0, 0, 0, 0, 1, 0, 0, 0, 0, 0, 0, 0, 0, 0, 0, 1,\n",
       "         0, 0, 0, 0, 0, 0, 0, 0, 0, 0, 0, 0, 0, 0, 0, 0, 0, 0, 1, 1, 1, 0, 0, 0,\n",
       "         0, 0, 0, 0, 0, 0, 0, 1, 0, 0, 0, 0, 0, 0, 0, 0, 0, 0, 0, 0, 0, 0, 0, 0,\n",
       "         0, 0, 0, 0, 0, 0, 0, 0], device='cuda:0'),\n",
       " 'logit': tensor([[-3.9848e-01, -2.9351e+00],\n",
       "         [-9.7724e-01,  9.2342e-02],\n",
       "         [ 7.0038e+00, -2.8372e+00],\n",
       "         [ 8.0322e-01, -1.0173e+00],\n",
       "         [-4.6308e-01,  3.3548e-01],\n",
       "         [-1.6737e-01,  1.3229e+00],\n",
       "         [ 3.4139e+00, -4.5441e+00],\n",
       "         [-4.9097e-01,  5.6928e-01],\n",
       "         [ 2.3817e+00, -3.3244e+00],\n",
       "         [-1.6162e+00, -3.2333e-01],\n",
       "         [-1.1922e+00, -1.2414e-01],\n",
       "         [ 1.3213e+00, -8.1009e-01],\n",
       "         [ 2.0867e+00, -2.3078e+00],\n",
       "         [-6.1120e-01,  7.2035e-01],\n",
       "         [ 9.3989e-02, -5.3411e-01],\n",
       "         [-1.1606e+00,  8.8302e-01],\n",
       "         [ 1.1180e+00, -2.9570e+00],\n",
       "         [ 8.7130e-01, -2.5192e+00],\n",
       "         [-1.0182e-01, -4.5103e+00],\n",
       "         [ 2.2552e+00, -7.9103e+00],\n",
       "         [ 4.4782e-01,  6.9507e-03],\n",
       "         [-5.4110e-01,  6.7793e-01],\n",
       "         [-1.7014e+00, -5.2243e-01],\n",
       "         [ 5.7720e-02, -7.0258e-01],\n",
       "         [ 4.0819e-01, -6.7914e-01],\n",
       "         [ 1.1499e+00, -6.2435e-01],\n",
       "         [-5.9142e-01, -2.7315e-01],\n",
       "         [ 6.9409e-01, -3.1819e-01],\n",
       "         [ 6.0849e-01, -1.5534e+00],\n",
       "         [ 8.8240e-01, -3.2883e+00],\n",
       "         [-3.9392e-01,  4.1804e-02],\n",
       "         [ 3.9427e+00, -3.7656e+00],\n",
       "         [-8.1768e-01,  7.5536e-01],\n",
       "         [ 3.5127e+00, -3.3622e+00],\n",
       "         [-5.1907e-01,  7.6010e-01],\n",
       "         [ 2.0336e+00, -2.7188e+00],\n",
       "         [ 2.3565e+00, -5.3251e+00],\n",
       "         [-1.3772e+00,  1.1495e-01],\n",
       "         [-1.4316e+00,  4.3195e-01],\n",
       "         [-1.2211e+00,  1.4150e+00],\n",
       "         [ 2.2964e+00, -4.7261e+00],\n",
       "         [-6.1389e-02,  4.7869e-01],\n",
       "         [ 3.5506e+00, -2.0625e+00],\n",
       "         [-2.9618e-01, -3.9027e+00],\n",
       "         [ 8.8156e-02, -3.8443e+00],\n",
       "         [ 6.4617e-01, -3.8207e+00],\n",
       "         [ 6.2781e-01, -2.2906e-01],\n",
       "         [ 1.4675e+00,  8.9766e-02],\n",
       "         [ 1.0670e+00, -6.9708e-01],\n",
       "         [-2.4590e-01,  1.4892e-01],\n",
       "         [-5.0307e-02, -5.3266e-01],\n",
       "         [-1.8223e+00, -8.9611e-02],\n",
       "         [ 3.4184e+00, -1.6169e+00],\n",
       "         [ 7.9920e-01, -2.6507e+00],\n",
       "         [ 4.9350e-01,  1.4511e+00],\n",
       "         [ 2.4706e+00, -2.8193e+00],\n",
       "         [-1.1613e+00,  7.4609e-01],\n",
       "         [-8.6934e-01, -2.4130e-01],\n",
       "         [ 9.8413e-01,  1.1895e-01],\n",
       "         [ 2.8498e+00, -4.7476e+00],\n",
       "         [-6.9937e-01,  1.1149e+00],\n",
       "         [ 3.0212e+00, -1.6758e+00],\n",
       "         [-5.9450e-01,  3.1548e-01],\n",
       "         [-3.5189e-01,  8.8027e-01],\n",
       "         [-8.6642e-01, -6.9512e-01],\n",
       "         [ 1.9158e-02, -7.7617e-01],\n",
       "         [ 2.4028e+00, -3.9813e+00],\n",
       "         [-6.4625e-01,  4.1225e-01],\n",
       "         [-6.0816e-01,  2.0230e-02],\n",
       "         [ 1.1712e+00, -1.3482e+00],\n",
       "         [ 4.1344e+00, -2.4017e+00],\n",
       "         [ 1.3847e-01, -1.4271e-01],\n",
       "         [ 5.7464e-01, -2.5127e+00],\n",
       "         [-3.7671e-01, -9.3186e-01],\n",
       "         [ 9.4921e-01, -2.5813e+00],\n",
       "         [ 3.7627e-01, -1.7689e+00],\n",
       "         [-4.7555e-01, -4.3037e+00],\n",
       "         [ 7.0997e-01, -9.7287e-01],\n",
       "         [ 3.6729e-01,  3.2144e-01],\n",
       "         [-2.9023e-01, -1.1160e+00],\n",
       "         [-1.3008e-01, -1.5181e+00],\n",
       "         [ 1.9203e+00,  3.7591e-01],\n",
       "         [ 8.9475e-01,  4.8035e-01],\n",
       "         [ 4.2801e+00, -2.5050e+00],\n",
       "         [-1.1076e+00, -6.2671e-02],\n",
       "         [ 3.0856e+00, -2.5248e+00],\n",
       "         [ 2.2573e+00, -1.8038e+00],\n",
       "         [-5.1343e-01, -6.3720e-01],\n",
       "         [ 3.2251e-01, -5.2902e-01],\n",
       "         [ 9.6153e-01,  8.3103e-01],\n",
       "         [-1.3270e+00,  7.8615e-01],\n",
       "         [ 3.1826e+00,  3.4207e-01],\n",
       "         [ 5.7468e-02,  4.3879e-01],\n",
       "         [ 1.3623e+00, -7.6582e-01],\n",
       "         [ 1.2448e-01, -2.5500e+00],\n",
       "         [-1.1320e+00,  8.7199e-01],\n",
       "         [-9.2976e-01, -6.2601e-01],\n",
       "         [-7.2850e-01,  1.3313e-01],\n",
       "         [-1.6213e-02,  4.2639e-01],\n",
       "         [ 6.2023e+00, -2.2898e-01],\n",
       "         [ 2.6281e+00, -8.3425e-01],\n",
       "         [-6.0754e-01, -6.9043e-01],\n",
       "         [-5.3058e-01,  4.2084e-01],\n",
       "         [-1.0709e+00,  6.4762e-01],\n",
       "         [ 4.8755e+00, -4.9903e+00],\n",
       "         [-2.2419e-01, -5.3655e-01],\n",
       "         [-6.0309e-01,  1.1751e+00],\n",
       "         [ 2.4836e+00, -3.0326e+00],\n",
       "         [ 1.0902e-01, -1.2562e+00],\n",
       "         [ 4.7037e-01, -1.1000e+00],\n",
       "         [ 2.0769e+00, -1.9073e+00],\n",
       "         [ 5.2208e+00, -4.8267e+00],\n",
       "         [-1.8597e-01, -9.0812e-01],\n",
       "         [-5.6682e-01, -2.2317e+00],\n",
       "         [ 2.3392e+00, -6.0169e+00],\n",
       "         [ 9.7487e-01, -1.0221e+00],\n",
       "         [-1.2606e-01, -9.4984e+00],\n",
       "         [ 5.4726e+00, -4.8424e+00],\n",
       "         [-8.8268e-01, -6.3674e-01],\n",
       "         [ 1.9568e-01,  3.5345e-01],\n",
       "         [-1.7558e+00,  7.2662e-01],\n",
       "         [ 7.6015e-01, -1.8818e+00],\n",
       "         [-5.2839e-01, -3.9694e-01],\n",
       "         [ 1.6575e+00,  1.9780e-01],\n",
       "         [ 1.7782e+00, -2.8797e+00],\n",
       "         [ 2.9346e+00, -4.2058e+00],\n",
       "         [ 1.0658e-01, -6.4576e-02],\n",
       "         [-1.4043e+00, -1.9779e-02]], device='cuda:0', grad_fn=<AddmmBackward0>),\n",
       " 'classification_report': {'0': {'precision': 0.9761904761904762,\n",
       "   'recall': 0.7192982456140351,\n",
       "   'f1-score': 0.8282828282828283,\n",
       "   'support': 114.0},\n",
       "  '1': {'precision': 0.2727272727272727,\n",
       "   'recall': 0.8571428571428571,\n",
       "   'f1-score': 0.41379310344827586,\n",
       "   'support': 14.0},\n",
       "  'accuracy': 0.734375,\n",
       "  'macro avg': {'precision': 0.6244588744588744,\n",
       "   'recall': 0.7882205513784462,\n",
       "   'f1-score': 0.621037965865552,\n",
       "   'support': 128.0},\n",
       "  'weighted avg': {'precision': 0.8992491883116882,\n",
       "   'recall': 0.734375,\n",
       "   'f1-score': 0.7829480146290491,\n",
       "   'support': 128.0}}}"
      ]
     },
     "execution_count": 12,
     "metadata": {},
     "output_type": "execute_result"
    }
   ],
   "source": [
    "\n",
    "#test_loader = DataLoader(test_ds, batch_size=16, shuffle=False,  collate_fn=collate_fn_dict,)\n",
    "\n",
    "optimizer_params = {\"lr\": 1e-3}\n",
    "\n",
    "df = data.get_df()\n",
    "\n",
    "labels = df['Diabetes_binary']\n",
    "labels = [ x[0] for x in labels]\n",
    "\n",
    "\n",
    "trainer = Trainer(model=model, exp_name= 'dataset2_sampler_ratios_augment_particio' )\n",
    "trainer.train(\n",
    "    train_dataloader=train_loader,\n",
    "    val_dataloader=val_loader,\n",
    "    epochs=100, optimizer_params=optimizer_params , labels = labels, label_key=\"Diabetes_binary\")"
   ]
  },
  {
   "cell_type": "code",
   "execution_count": null,
   "id": "c15529b7",
   "metadata": {},
   "outputs": [
    {
     "data": {
      "text/html": [
       "Tracking run with wandb version 0.19.10"
      ],
      "text/plain": [
       "<IPython.core.display.HTML object>"
      ]
     },
     "metadata": {},
     "output_type": "display_data"
    },
    {
     "data": {
      "text/html": [
       "Run data is saved locally in <code>c:\\Users\\xisca\\Documents\\4 - TFG\\codi\\tfg\\pyhealth\\wandb\\run-20250428_000941-s5esw3vy</code>"
      ],
      "text/plain": [
       "<IPython.core.display.HTML object>"
      ]
     },
     "metadata": {},
     "output_type": "display_data"
    },
    {
     "data": {
      "text/html": [
       "Syncing run <strong><a href='https://wandb.ai/tfg_pyh/tfg/runs/s5esw3vy' target=\"_blank\">dataset2_train_test</a></strong> to <a href='https://wandb.ai/tfg_pyh/tfg' target=\"_blank\">Weights & Biases</a> (<a href='https://wandb.me/developer-guide' target=\"_blank\">docs</a>)<br>"
      ],
      "text/plain": [
       "<IPython.core.display.HTML object>"
      ]
     },
     "metadata": {},
     "output_type": "display_data"
    },
    {
     "data": {
      "text/html": [
       " View project at <a href='https://wandb.ai/tfg_pyh/tfg' target=\"_blank\">https://wandb.ai/tfg_pyh/tfg</a>"
      ],
      "text/plain": [
       "<IPython.core.display.HTML object>"
      ]
     },
     "metadata": {},
     "output_type": "display_data"
    },
    {
     "data": {
      "text/html": [
       " View run at <a href='https://wandb.ai/tfg_pyh/tfg/runs/s5esw3vy' target=\"_blank\">https://wandb.ai/tfg_pyh/tfg/runs/s5esw3vy</a>"
      ],
      "text/plain": [
       "<IPython.core.display.HTML object>"
      ]
     },
     "metadata": {},
     "output_type": "display_data"
    },
    {
     "name": "stdout",
     "output_type": "stream",
     "text": [
      "Classes weights: [0.1393353 0.8606647]\n"
     ]
    },
    {
     "name": "stderr",
     "output_type": "stream",
     "text": [
      "Epoch 0 / 100: 100%|██████████| 762/762 [00:55<00:00, 13.83it/s]\n"
     ]
    },
    {
     "name": "stdout",
     "output_type": "stream",
     "text": [
      "Classes weights: [0.1393353 0.8606647]\n"
     ]
    },
    {
     "name": "stderr",
     "output_type": "stream",
     "text": [
      "Evaluation: 100%|██████████| 115/115 [00:06<00:00, 17.07it/s]\n",
      "Epoch 1 / 100: 100%|██████████| 762/762 [01:04<00:00, 11.86it/s]\n"
     ]
    },
    {
     "name": "stdout",
     "output_type": "stream",
     "text": [
      "Classes weights: [0.1393353 0.8606647]\n"
     ]
    },
    {
     "name": "stderr",
     "output_type": "stream",
     "text": [
      "Evaluation: 100%|██████████| 115/115 [00:09<00:00, 12.19it/s]\n",
      "Epoch 2 / 100: 100%|██████████| 762/762 [00:58<00:00, 13.08it/s]\n"
     ]
    },
    {
     "name": "stdout",
     "output_type": "stream",
     "text": [
      "Classes weights: [0.1393353 0.8606647]\n"
     ]
    },
    {
     "name": "stderr",
     "output_type": "stream",
     "text": [
      "Evaluation: 100%|██████████| 115/115 [00:07<00:00, 15.54it/s]\n",
      "Epoch 3 / 100: 100%|██████████| 762/762 [00:57<00:00, 13.19it/s]\n"
     ]
    },
    {
     "name": "stdout",
     "output_type": "stream",
     "text": [
      "Classes weights: [0.1393353 0.8606647]\n"
     ]
    },
    {
     "name": "stderr",
     "output_type": "stream",
     "text": [
      "Evaluation: 100%|██████████| 115/115 [00:06<00:00, 16.53it/s]\n",
      "Epoch 4 / 100: 100%|██████████| 762/762 [00:57<00:00, 13.21it/s]\n"
     ]
    },
    {
     "name": "stdout",
     "output_type": "stream",
     "text": [
      "Classes weights: [0.1393353 0.8606647]\n"
     ]
    },
    {
     "name": "stderr",
     "output_type": "stream",
     "text": [
      "Evaluation: 100%|██████████| 115/115 [00:06<00:00, 17.39it/s]\n",
      "Epoch 5 / 100: 100%|██████████| 762/762 [00:57<00:00, 13.17it/s]\n"
     ]
    },
    {
     "name": "stdout",
     "output_type": "stream",
     "text": [
      "Classes weights: [0.1393353 0.8606647]\n"
     ]
    },
    {
     "name": "stderr",
     "output_type": "stream",
     "text": [
      "Evaluation: 100%|██████████| 115/115 [00:06<00:00, 17.13it/s]\n",
      "Epoch 6 / 100: 100%|██████████| 762/762 [00:57<00:00, 13.28it/s]\n"
     ]
    },
    {
     "name": "stdout",
     "output_type": "stream",
     "text": [
      "Classes weights: [0.1393353 0.8606647]\n"
     ]
    },
    {
     "name": "stderr",
     "output_type": "stream",
     "text": [
      "Evaluation: 100%|██████████| 115/115 [00:06<00:00, 16.78it/s]\n",
      "Epoch 7 / 100: 100%|██████████| 762/762 [00:55<00:00, 13.82it/s]\n"
     ]
    },
    {
     "name": "stdout",
     "output_type": "stream",
     "text": [
      "Classes weights: [0.1393353 0.8606647]\n"
     ]
    },
    {
     "name": "stderr",
     "output_type": "stream",
     "text": [
      "Evaluation: 100%|██████████| 115/115 [00:06<00:00, 17.67it/s]\n",
      "Epoch 8 / 100: 100%|██████████| 762/762 [00:57<00:00, 13.33it/s]\n"
     ]
    },
    {
     "name": "stdout",
     "output_type": "stream",
     "text": [
      "Classes weights: [0.1393353 0.8606647]\n"
     ]
    },
    {
     "name": "stderr",
     "output_type": "stream",
     "text": [
      "Evaluation: 100%|██████████| 115/115 [00:06<00:00, 17.27it/s]\n",
      "Epoch 9 / 100: 100%|██████████| 762/762 [00:57<00:00, 13.27it/s]\n"
     ]
    },
    {
     "name": "stdout",
     "output_type": "stream",
     "text": [
      "Classes weights: [0.1393353 0.8606647]\n"
     ]
    },
    {
     "name": "stderr",
     "output_type": "stream",
     "text": [
      "Evaluation: 100%|██████████| 115/115 [00:07<00:00, 16.19it/s]\n",
      "Epoch 10 / 100: 100%|██████████| 762/762 [00:57<00:00, 13.14it/s]\n"
     ]
    },
    {
     "name": "stdout",
     "output_type": "stream",
     "text": [
      "Classes weights: [0.1393353 0.8606647]\n"
     ]
    },
    {
     "name": "stderr",
     "output_type": "stream",
     "text": [
      "Evaluation: 100%|██████████| 115/115 [00:06<00:00, 16.91it/s]\n",
      "Epoch 11 / 100: 100%|██████████| 762/762 [00:56<00:00, 13.48it/s]\n"
     ]
    },
    {
     "name": "stdout",
     "output_type": "stream",
     "text": [
      "Classes weights: [0.1393353 0.8606647]\n"
     ]
    },
    {
     "name": "stderr",
     "output_type": "stream",
     "text": [
      "Evaluation: 100%|██████████| 115/115 [00:07<00:00, 16.36it/s]\n",
      "Epoch 12 / 100: 100%|██████████| 762/762 [00:57<00:00, 13.26it/s]\n"
     ]
    },
    {
     "name": "stdout",
     "output_type": "stream",
     "text": [
      "Classes weights: [0.1393353 0.8606647]\n"
     ]
    },
    {
     "name": "stderr",
     "output_type": "stream",
     "text": [
      "Evaluation: 100%|██████████| 115/115 [00:07<00:00, 16.08it/s]\n",
      "Epoch 13 / 100: 100%|██████████| 762/762 [00:57<00:00, 13.25it/s]\n"
     ]
    },
    {
     "name": "stdout",
     "output_type": "stream",
     "text": [
      "Classes weights: [0.1393353 0.8606647]\n"
     ]
    },
    {
     "name": "stderr",
     "output_type": "stream",
     "text": [
      "Evaluation: 100%|██████████| 115/115 [00:06<00:00, 17.46it/s]\n",
      "Epoch 14 / 100: 100%|██████████| 762/762 [00:57<00:00, 13.22it/s]\n"
     ]
    },
    {
     "name": "stdout",
     "output_type": "stream",
     "text": [
      "Classes weights: [0.1393353 0.8606647]\n"
     ]
    },
    {
     "name": "stderr",
     "output_type": "stream",
     "text": [
      "Evaluation: 100%|██████████| 115/115 [00:06<00:00, 16.85it/s]\n",
      "Epoch 15 / 100: 100%|██████████| 762/762 [00:54<00:00, 13.91it/s]\n"
     ]
    },
    {
     "name": "stdout",
     "output_type": "stream",
     "text": [
      "Classes weights: [0.1393353 0.8606647]\n"
     ]
    },
    {
     "name": "stderr",
     "output_type": "stream",
     "text": [
      "Evaluation: 100%|██████████| 115/115 [00:06<00:00, 17.60it/s]\n",
      "Epoch 16 / 100: 100%|██████████| 762/762 [00:57<00:00, 13.34it/s]\n"
     ]
    },
    {
     "name": "stdout",
     "output_type": "stream",
     "text": [
      "Classes weights: [0.1393353 0.8606647]\n"
     ]
    },
    {
     "name": "stderr",
     "output_type": "stream",
     "text": [
      "Evaluation: 100%|██████████| 115/115 [00:06<00:00, 16.62it/s]\n",
      "Epoch 17 / 100: 100%|██████████| 762/762 [00:57<00:00, 13.20it/s]\n"
     ]
    },
    {
     "name": "stdout",
     "output_type": "stream",
     "text": [
      "Classes weights: [0.1393353 0.8606647]\n"
     ]
    },
    {
     "name": "stderr",
     "output_type": "stream",
     "text": [
      "Evaluation: 100%|██████████| 115/115 [00:06<00:00, 16.93it/s]\n",
      "Epoch 18 / 100: 100%|██████████| 762/762 [00:57<00:00, 13.25it/s]\n"
     ]
    },
    {
     "name": "stdout",
     "output_type": "stream",
     "text": [
      "Classes weights: [0.1393353 0.8606647]\n"
     ]
    },
    {
     "name": "stderr",
     "output_type": "stream",
     "text": [
      "Evaluation: 100%|██████████| 115/115 [00:06<00:00, 17.10it/s]\n",
      "Epoch 19 / 100: 100%|██████████| 762/762 [00:55<00:00, 13.62it/s]\n"
     ]
    },
    {
     "name": "stdout",
     "output_type": "stream",
     "text": [
      "Classes weights: [0.1393353 0.8606647]\n"
     ]
    },
    {
     "name": "stderr",
     "output_type": "stream",
     "text": [
      "Evaluation: 100%|██████████| 115/115 [00:06<00:00, 16.53it/s]\n",
      "Epoch 20 / 100: 100%|██████████| 762/762 [00:56<00:00, 13.38it/s]\n"
     ]
    },
    {
     "name": "stdout",
     "output_type": "stream",
     "text": [
      "Classes weights: [0.1393353 0.8606647]\n"
     ]
    },
    {
     "name": "stderr",
     "output_type": "stream",
     "text": [
      "Evaluation: 100%|██████████| 115/115 [00:07<00:00, 15.95it/s]\n",
      "Epoch 21 / 100: 100%|██████████| 762/762 [00:58<00:00, 13.12it/s]\n"
     ]
    },
    {
     "name": "stdout",
     "output_type": "stream",
     "text": [
      "Classes weights: [0.1393353 0.8606647]\n"
     ]
    },
    {
     "name": "stderr",
     "output_type": "stream",
     "text": [
      "Evaluation: 100%|██████████| 115/115 [00:07<00:00, 15.77it/s]\n",
      "Epoch 22 / 100: 100%|██████████| 762/762 [00:54<00:00, 14.06it/s]\n"
     ]
    },
    {
     "name": "stdout",
     "output_type": "stream",
     "text": [
      "Classes weights: [0.1393353 0.8606647]\n"
     ]
    },
    {
     "name": "stderr",
     "output_type": "stream",
     "text": [
      "Evaluation: 100%|██████████| 115/115 [00:06<00:00, 18.14it/s]\n",
      "Epoch 23 / 100: 100%|██████████| 762/762 [00:57<00:00, 13.37it/s]\n"
     ]
    },
    {
     "name": "stdout",
     "output_type": "stream",
     "text": [
      "Classes weights: [0.1393353 0.8606647]\n"
     ]
    },
    {
     "name": "stderr",
     "output_type": "stream",
     "text": [
      "Evaluation: 100%|██████████| 115/115 [00:06<00:00, 16.70it/s]\n",
      "Epoch 24 / 100: 100%|██████████| 762/762 [00:57<00:00, 13.29it/s]\n"
     ]
    },
    {
     "name": "stdout",
     "output_type": "stream",
     "text": [
      "Classes weights: [0.1393353 0.8606647]\n"
     ]
    },
    {
     "name": "stderr",
     "output_type": "stream",
     "text": [
      "Evaluation: 100%|██████████| 115/115 [00:06<00:00, 16.63it/s]\n",
      "Epoch 25 / 100: 100%|██████████| 762/762 [00:57<00:00, 13.18it/s]\n"
     ]
    },
    {
     "name": "stdout",
     "output_type": "stream",
     "text": [
      "Classes weights: [0.1393353 0.8606647]\n"
     ]
    },
    {
     "name": "stderr",
     "output_type": "stream",
     "text": [
      "Evaluation: 100%|██████████| 115/115 [00:06<00:00, 16.89it/s]\n",
      "Epoch 26 / 100: 100%|██████████| 762/762 [00:55<00:00, 13.72it/s]\n"
     ]
    },
    {
     "name": "stdout",
     "output_type": "stream",
     "text": [
      "Classes weights: [0.1393353 0.8606647]\n"
     ]
    },
    {
     "name": "stderr",
     "output_type": "stream",
     "text": [
      "Evaluation: 100%|██████████| 115/115 [00:06<00:00, 17.38it/s]\n",
      "Epoch 27 / 100: 100%|██████████| 762/762 [00:57<00:00, 13.25it/s]\n"
     ]
    },
    {
     "name": "stdout",
     "output_type": "stream",
     "text": [
      "Classes weights: [0.1393353 0.8606647]\n"
     ]
    },
    {
     "name": "stderr",
     "output_type": "stream",
     "text": [
      "Evaluation: 100%|██████████| 115/115 [00:06<00:00, 16.80it/s]\n",
      "Epoch 28 / 100: 100%|██████████| 762/762 [00:57<00:00, 13.34it/s]\n"
     ]
    },
    {
     "name": "stdout",
     "output_type": "stream",
     "text": [
      "Classes weights: [0.1393353 0.8606647]\n"
     ]
    },
    {
     "name": "stderr",
     "output_type": "stream",
     "text": [
      "Evaluation: 100%|██████████| 115/115 [00:07<00:00, 16.36it/s]\n",
      "Epoch 29 / 100: 100%|██████████| 762/762 [00:54<00:00, 13.87it/s]\n"
     ]
    },
    {
     "name": "stdout",
     "output_type": "stream",
     "text": [
      "Classes weights: [0.1393353 0.8606647]\n"
     ]
    },
    {
     "name": "stderr",
     "output_type": "stream",
     "text": [
      "Evaluation: 100%|██████████| 115/115 [00:07<00:00, 15.88it/s]\n",
      "Epoch 30 / 100: 100%|██████████| 762/762 [00:57<00:00, 13.29it/s]\n"
     ]
    },
    {
     "name": "stdout",
     "output_type": "stream",
     "text": [
      "Classes weights: [0.1393353 0.8606647]\n"
     ]
    },
    {
     "name": "stderr",
     "output_type": "stream",
     "text": [
      "Evaluation: 100%|██████████| 115/115 [00:07<00:00, 16.40it/s]\n",
      "Epoch 31 / 100: 100%|██████████| 762/762 [00:57<00:00, 13.22it/s]\n"
     ]
    },
    {
     "name": "stdout",
     "output_type": "stream",
     "text": [
      "Classes weights: [0.1393353 0.8606647]\n"
     ]
    },
    {
     "name": "stderr",
     "output_type": "stream",
     "text": [
      "Evaluation: 100%|██████████| 115/115 [00:06<00:00, 17.56it/s]\n",
      "Epoch 32 / 100: 100%|██████████| 762/762 [00:55<00:00, 13.72it/s]\n"
     ]
    },
    {
     "name": "stdout",
     "output_type": "stream",
     "text": [
      "Classes weights: [0.1393353 0.8606647]\n"
     ]
    },
    {
     "name": "stderr",
     "output_type": "stream",
     "text": [
      "Evaluation: 100%|██████████| 115/115 [00:06<00:00, 17.87it/s]\n",
      "Epoch 33 / 100: 100%|██████████| 762/762 [00:57<00:00, 13.33it/s]\n"
     ]
    },
    {
     "name": "stdout",
     "output_type": "stream",
     "text": [
      "Classes weights: [0.1393353 0.8606647]\n"
     ]
    },
    {
     "name": "stderr",
     "output_type": "stream",
     "text": [
      "Evaluation: 100%|██████████| 115/115 [00:06<00:00, 16.63it/s]\n",
      "Epoch 34 / 100: 100%|██████████| 762/762 [00:57<00:00, 13.21it/s]\n"
     ]
    },
    {
     "name": "stdout",
     "output_type": "stream",
     "text": [
      "Classes weights: [0.1393353 0.8606647]\n"
     ]
    },
    {
     "name": "stderr",
     "output_type": "stream",
     "text": [
      "Evaluation: 100%|██████████| 115/115 [00:06<00:00, 17.21it/s]\n",
      "Epoch 35 / 100: 100%|██████████| 762/762 [00:55<00:00, 13.68it/s]\n"
     ]
    },
    {
     "name": "stdout",
     "output_type": "stream",
     "text": [
      "Classes weights: [0.1393353 0.8606647]\n"
     ]
    },
    {
     "name": "stderr",
     "output_type": "stream",
     "text": [
      "Evaluation: 100%|██████████| 115/115 [00:06<00:00, 17.77it/s]\n",
      "Epoch 36 / 100: 100%|██████████| 762/762 [00:57<00:00, 13.32it/s]\n"
     ]
    },
    {
     "name": "stdout",
     "output_type": "stream",
     "text": [
      "Classes weights: [0.1393353 0.8606647]\n"
     ]
    },
    {
     "name": "stderr",
     "output_type": "stream",
     "text": [
      "Evaluation: 100%|██████████| 115/115 [00:06<00:00, 16.70it/s]\n",
      "Epoch 37 / 100: 100%|██████████| 762/762 [00:57<00:00, 13.28it/s]\n"
     ]
    },
    {
     "name": "stdout",
     "output_type": "stream",
     "text": [
      "Classes weights: [0.1393353 0.8606647]\n"
     ]
    },
    {
     "name": "stderr",
     "output_type": "stream",
     "text": [
      "Evaluation: 100%|██████████| 115/115 [00:07<00:00, 16.43it/s]\n",
      "Epoch 38 / 100: 100%|██████████| 762/762 [00:55<00:00, 13.74it/s]\n"
     ]
    },
    {
     "name": "stdout",
     "output_type": "stream",
     "text": [
      "Classes weights: [0.1393353 0.8606647]\n"
     ]
    },
    {
     "name": "stderr",
     "output_type": "stream",
     "text": [
      "Evaluation: 100%|██████████| 115/115 [00:06<00:00, 17.38it/s]\n",
      "Epoch 39 / 100: 100%|██████████| 762/762 [00:57<00:00, 13.35it/s]\n"
     ]
    },
    {
     "name": "stdout",
     "output_type": "stream",
     "text": [
      "Classes weights: [0.1393353 0.8606647]\n"
     ]
    },
    {
     "name": "stderr",
     "output_type": "stream",
     "text": [
      "Evaluation: 100%|██████████| 115/115 [00:07<00:00, 16.29it/s]\n",
      "Epoch 40 / 100: 100%|██████████| 762/762 [00:57<00:00, 13.24it/s]\n"
     ]
    },
    {
     "name": "stdout",
     "output_type": "stream",
     "text": [
      "Classes weights: [0.1393353 0.8606647]\n"
     ]
    },
    {
     "name": "stderr",
     "output_type": "stream",
     "text": [
      "Evaluation: 100%|██████████| 115/115 [00:06<00:00, 16.97it/s]\n",
      "Epoch 41 / 100: 100%|██████████| 762/762 [00:55<00:00, 13.76it/s]\n"
     ]
    },
    {
     "name": "stdout",
     "output_type": "stream",
     "text": [
      "Classes weights: [0.1393353 0.8606647]\n"
     ]
    },
    {
     "name": "stderr",
     "output_type": "stream",
     "text": [
      "Evaluation: 100%|██████████| 115/115 [00:06<00:00, 17.76it/s]\n",
      "Epoch 42 / 100: 100%|██████████| 762/762 [00:57<00:00, 13.37it/s]\n"
     ]
    },
    {
     "name": "stdout",
     "output_type": "stream",
     "text": [
      "Classes weights: [0.1393353 0.8606647]\n"
     ]
    },
    {
     "name": "stderr",
     "output_type": "stream",
     "text": [
      "Evaluation: 100%|██████████| 115/115 [00:06<00:00, 17.37it/s]\n",
      "Epoch 43 / 100: 100%|██████████| 762/762 [00:57<00:00, 13.27it/s]\n"
     ]
    },
    {
     "name": "stdout",
     "output_type": "stream",
     "text": [
      "Classes weights: [0.1393353 0.8606647]\n"
     ]
    },
    {
     "name": "stderr",
     "output_type": "stream",
     "text": [
      "Evaluation: 100%|██████████| 115/115 [00:06<00:00, 17.87it/s]\n",
      "Epoch 44 / 100: 100%|██████████| 762/762 [00:57<00:00, 13.22it/s]\n"
     ]
    },
    {
     "name": "stdout",
     "output_type": "stream",
     "text": [
      "Classes weights: [0.1393353 0.8606647]\n"
     ]
    },
    {
     "name": "stderr",
     "output_type": "stream",
     "text": [
      "Evaluation: 100%|██████████| 115/115 [00:07<00:00, 16.39it/s]\n",
      "Epoch 45 / 100: 100%|██████████| 762/762 [00:55<00:00, 13.81it/s]\n"
     ]
    },
    {
     "name": "stdout",
     "output_type": "stream",
     "text": [
      "Classes weights: [0.1393353 0.8606647]\n"
     ]
    },
    {
     "name": "stderr",
     "output_type": "stream",
     "text": [
      "Evaluation: 100%|██████████| 115/115 [00:06<00:00, 17.24it/s]\n",
      "Epoch 46 / 100: 100%|██████████| 762/762 [00:57<00:00, 13.28it/s]\n"
     ]
    },
    {
     "name": "stdout",
     "output_type": "stream",
     "text": [
      "Classes weights: [0.1393353 0.8606647]\n"
     ]
    },
    {
     "name": "stderr",
     "output_type": "stream",
     "text": [
      "Evaluation: 100%|██████████| 115/115 [00:06<00:00, 17.54it/s]\n",
      "Epoch 47 / 100: 100%|██████████| 762/762 [00:57<00:00, 13.19it/s]\n"
     ]
    },
    {
     "name": "stdout",
     "output_type": "stream",
     "text": [
      "Classes weights: [0.1393353 0.8606647]\n"
     ]
    },
    {
     "name": "stderr",
     "output_type": "stream",
     "text": [
      "Evaluation: 100%|██████████| 115/115 [00:06<00:00, 16.50it/s]\n",
      "Epoch 48 / 100: 100%|██████████| 762/762 [00:55<00:00, 13.80it/s]\n"
     ]
    },
    {
     "name": "stdout",
     "output_type": "stream",
     "text": [
      "Classes weights: [0.1393353 0.8606647]\n"
     ]
    },
    {
     "name": "stderr",
     "output_type": "stream",
     "text": [
      "Evaluation: 100%|██████████| 115/115 [00:06<00:00, 17.30it/s]\n",
      "Epoch 49 / 100: 100%|██████████| 762/762 [00:57<00:00, 13.36it/s]\n"
     ]
    },
    {
     "name": "stdout",
     "output_type": "stream",
     "text": [
      "Classes weights: [0.1393353 0.8606647]\n"
     ]
    },
    {
     "name": "stderr",
     "output_type": "stream",
     "text": [
      "Evaluation: 100%|██████████| 115/115 [00:06<00:00, 16.55it/s]\n",
      "Epoch 50 / 100: 100%|██████████| 762/762 [00:57<00:00, 13.23it/s]\n"
     ]
    },
    {
     "name": "stdout",
     "output_type": "stream",
     "text": [
      "Classes weights: [0.1393353 0.8606647]\n"
     ]
    },
    {
     "name": "stderr",
     "output_type": "stream",
     "text": [
      "Evaluation: 100%|██████████| 115/115 [00:06<00:00, 16.70it/s]\n",
      "Epoch 51 / 100: 100%|██████████| 762/762 [00:55<00:00, 13.85it/s]\n"
     ]
    },
    {
     "name": "stdout",
     "output_type": "stream",
     "text": [
      "Classes weights: [0.1393353 0.8606647]\n"
     ]
    },
    {
     "name": "stderr",
     "output_type": "stream",
     "text": [
      "Evaluation: 100%|██████████| 115/115 [00:06<00:00, 17.25it/s]\n",
      "Epoch 52 / 100: 100%|██████████| 762/762 [00:57<00:00, 13.33it/s]\n"
     ]
    },
    {
     "name": "stdout",
     "output_type": "stream",
     "text": [
      "Classes weights: [0.1393353 0.8606647]\n"
     ]
    },
    {
     "name": "stderr",
     "output_type": "stream",
     "text": [
      "Evaluation: 100%|██████████| 115/115 [00:06<00:00, 17.45it/s]\n",
      "Epoch 53 / 100: 100%|██████████| 762/762 [00:57<00:00, 13.30it/s]\n"
     ]
    },
    {
     "name": "stdout",
     "output_type": "stream",
     "text": [
      "Classes weights: [0.1393353 0.8606647]\n"
     ]
    },
    {
     "name": "stderr",
     "output_type": "stream",
     "text": [
      "Evaluation: 100%|██████████| 115/115 [00:06<00:00, 16.95it/s]\n",
      "Epoch 54 / 100: 100%|██████████| 762/762 [00:57<00:00, 13.28it/s]\n"
     ]
    },
    {
     "name": "stdout",
     "output_type": "stream",
     "text": [
      "Classes weights: [0.1393353 0.8606647]\n"
     ]
    },
    {
     "name": "stderr",
     "output_type": "stream",
     "text": [
      "Evaluation: 100%|██████████| 115/115 [00:07<00:00, 15.91it/s]\n",
      "Epoch 55 / 100: 100%|██████████| 762/762 [00:54<00:00, 13.97it/s]\n"
     ]
    },
    {
     "name": "stdout",
     "output_type": "stream",
     "text": [
      "Classes weights: [0.1393353 0.8606647]\n"
     ]
    },
    {
     "name": "stderr",
     "output_type": "stream",
     "text": [
      "Evaluation: 100%|██████████| 115/115 [00:06<00:00, 18.48it/s]\n",
      "Epoch 56 / 100: 100%|██████████| 762/762 [00:56<00:00, 13.44it/s]\n"
     ]
    },
    {
     "name": "stdout",
     "output_type": "stream",
     "text": [
      "Classes weights: [0.1393353 0.8606647]\n"
     ]
    },
    {
     "name": "stderr",
     "output_type": "stream",
     "text": [
      "Evaluation: 100%|██████████| 115/115 [00:06<00:00, 16.91it/s]\n",
      "Epoch 57 / 100: 100%|██████████| 762/762 [00:55<00:00, 13.73it/s]\n"
     ]
    },
    {
     "name": "stdout",
     "output_type": "stream",
     "text": [
      "Classes weights: [0.1393353 0.8606647]\n"
     ]
    },
    {
     "name": "stderr",
     "output_type": "stream",
     "text": [
      "Evaluation: 100%|██████████| 115/115 [00:06<00:00, 17.04it/s]\n",
      "Epoch 58 / 100: 100%|██████████| 762/762 [00:57<00:00, 13.35it/s]\n"
     ]
    },
    {
     "name": "stdout",
     "output_type": "stream",
     "text": [
      "Classes weights: [0.1393353 0.8606647]\n"
     ]
    },
    {
     "name": "stderr",
     "output_type": "stream",
     "text": [
      "Evaluation: 100%|██████████| 115/115 [00:06<00:00, 17.07it/s]\n",
      "Epoch 59 / 100: 100%|██████████| 762/762 [00:57<00:00, 13.21it/s]\n"
     ]
    },
    {
     "name": "stdout",
     "output_type": "stream",
     "text": [
      "Classes weights: [0.1393353 0.8606647]\n"
     ]
    },
    {
     "name": "stderr",
     "output_type": "stream",
     "text": [
      "Evaluation: 100%|██████████| 115/115 [00:07<00:00, 16.22it/s]\n",
      "Epoch 60 / 100: 100%|██████████| 762/762 [00:55<00:00, 13.81it/s]\n"
     ]
    },
    {
     "name": "stdout",
     "output_type": "stream",
     "text": [
      "Classes weights: [0.1393353 0.8606647]\n"
     ]
    },
    {
     "name": "stderr",
     "output_type": "stream",
     "text": [
      "Evaluation: 100%|██████████| 115/115 [00:06<00:00, 16.76it/s]\n",
      "Epoch 61 / 100: 100%|██████████| 762/762 [00:56<00:00, 13.45it/s]\n"
     ]
    },
    {
     "name": "stdout",
     "output_type": "stream",
     "text": [
      "Classes weights: [0.1393353 0.8606647]\n"
     ]
    },
    {
     "name": "stderr",
     "output_type": "stream",
     "text": [
      "Evaluation: 100%|██████████| 115/115 [00:06<00:00, 17.17it/s]\n",
      "Epoch 62 / 100: 100%|██████████| 762/762 [00:58<00:00, 13.11it/s]\n"
     ]
    },
    {
     "name": "stdout",
     "output_type": "stream",
     "text": [
      "Classes weights: [0.1393353 0.8606647]\n"
     ]
    },
    {
     "name": "stderr",
     "output_type": "stream",
     "text": [
      "Evaluation: 100%|██████████| 115/115 [00:06<00:00, 16.67it/s]\n",
      "Epoch 63 / 100: 100%|██████████| 762/762 [00:57<00:00, 13.35it/s]\n"
     ]
    },
    {
     "name": "stdout",
     "output_type": "stream",
     "text": [
      "Classes weights: [0.1393353 0.8606647]\n"
     ]
    },
    {
     "name": "stderr",
     "output_type": "stream",
     "text": [
      "Evaluation: 100%|██████████| 115/115 [00:07<00:00, 16.15it/s]\n",
      "Epoch 64 / 100: 100%|██████████| 762/762 [00:57<00:00, 13.35it/s]\n"
     ]
    },
    {
     "name": "stdout",
     "output_type": "stream",
     "text": [
      "Classes weights: [0.1393353 0.8606647]\n"
     ]
    },
    {
     "name": "stderr",
     "output_type": "stream",
     "text": [
      "Evaluation: 100%|██████████| 115/115 [00:06<00:00, 17.19it/s]\n",
      "Epoch 65 / 100: 100%|██████████| 762/762 [00:55<00:00, 13.84it/s]\n"
     ]
    },
    {
     "name": "stdout",
     "output_type": "stream",
     "text": [
      "Classes weights: [0.1393353 0.8606647]\n"
     ]
    },
    {
     "name": "stderr",
     "output_type": "stream",
     "text": [
      "Evaluation: 100%|██████████| 115/115 [00:06<00:00, 16.67it/s]\n",
      "Epoch 66 / 100: 100%|██████████| 762/762 [00:57<00:00, 13.31it/s]\n"
     ]
    },
    {
     "name": "stdout",
     "output_type": "stream",
     "text": [
      "Classes weights: [0.1393353 0.8606647]\n"
     ]
    },
    {
     "name": "stderr",
     "output_type": "stream",
     "text": [
      "Evaluation: 100%|██████████| 115/115 [00:07<00:00, 16.39it/s]\n",
      "Epoch 67 / 100: 100%|██████████| 762/762 [00:56<00:00, 13.46it/s]\n"
     ]
    },
    {
     "name": "stdout",
     "output_type": "stream",
     "text": [
      "Classes weights: [0.1393353 0.8606647]\n"
     ]
    },
    {
     "name": "stderr",
     "output_type": "stream",
     "text": [
      "Evaluation: 100%|██████████| 115/115 [00:06<00:00, 17.14it/s]\n",
      "Epoch 68 / 100: 100%|██████████| 762/762 [00:57<00:00, 13.23it/s]\n"
     ]
    },
    {
     "name": "stdout",
     "output_type": "stream",
     "text": [
      "Classes weights: [0.1393353 0.8606647]\n"
     ]
    },
    {
     "name": "stderr",
     "output_type": "stream",
     "text": [
      "Evaluation: 100%|██████████| 115/115 [00:06<00:00, 16.83it/s]\n",
      "Epoch 69 / 100: 100%|██████████| 762/762 [00:58<00:00, 13.07it/s]\n"
     ]
    },
    {
     "name": "stdout",
     "output_type": "stream",
     "text": [
      "Classes weights: [0.1393353 0.8606647]\n"
     ]
    },
    {
     "name": "stderr",
     "output_type": "stream",
     "text": [
      "Evaluation: 100%|██████████| 115/115 [00:07<00:00, 15.89it/s]\n",
      "Epoch 70 / 100: 100%|██████████| 762/762 [00:54<00:00, 13.96it/s]\n"
     ]
    },
    {
     "name": "stdout",
     "output_type": "stream",
     "text": [
      "Classes weights: [0.1393353 0.8606647]\n"
     ]
    },
    {
     "name": "stderr",
     "output_type": "stream",
     "text": [
      "Evaluation: 100%|██████████| 115/115 [00:06<00:00, 17.80it/s]\n",
      "Epoch 71 / 100: 100%|██████████| 762/762 [00:56<00:00, 13.42it/s]\n"
     ]
    },
    {
     "name": "stdout",
     "output_type": "stream",
     "text": [
      "Classes weights: [0.1393353 0.8606647]\n"
     ]
    },
    {
     "name": "stderr",
     "output_type": "stream",
     "text": [
      "Evaluation: 100%|██████████| 115/115 [00:06<00:00, 16.72it/s]\n",
      "Epoch 72 / 100: 100%|██████████| 762/762 [00:57<00:00, 13.32it/s]\n"
     ]
    },
    {
     "name": "stdout",
     "output_type": "stream",
     "text": [
      "Classes weights: [0.1393353 0.8606647]\n"
     ]
    },
    {
     "name": "stderr",
     "output_type": "stream",
     "text": [
      "Evaluation: 100%|██████████| 115/115 [00:07<00:00, 16.42it/s]\n",
      "Epoch 73 / 100: 100%|██████████| 762/762 [00:55<00:00, 13.73it/s]\n"
     ]
    },
    {
     "name": "stdout",
     "output_type": "stream",
     "text": [
      "Classes weights: [0.1393353 0.8606647]\n"
     ]
    },
    {
     "name": "stderr",
     "output_type": "stream",
     "text": [
      "Evaluation: 100%|██████████| 115/115 [00:06<00:00, 18.17it/s]\n",
      "Epoch 74 / 100: 100%|██████████| 762/762 [00:57<00:00, 13.29it/s]\n"
     ]
    },
    {
     "name": "stdout",
     "output_type": "stream",
     "text": [
      "Classes weights: [0.1393353 0.8606647]\n"
     ]
    },
    {
     "name": "stderr",
     "output_type": "stream",
     "text": [
      "Evaluation: 100%|██████████| 115/115 [00:06<00:00, 16.76it/s]\n",
      "Epoch 75 / 100: 100%|██████████| 762/762 [00:57<00:00, 13.22it/s]\n"
     ]
    },
    {
     "name": "stdout",
     "output_type": "stream",
     "text": [
      "Classes weights: [0.1393353 0.8606647]\n"
     ]
    },
    {
     "name": "stderr",
     "output_type": "stream",
     "text": [
      "Evaluation: 100%|██████████| 115/115 [00:07<00:00, 15.94it/s]\n",
      "Epoch 76 / 100: 100%|██████████| 762/762 [00:56<00:00, 13.54it/s]\n"
     ]
    },
    {
     "name": "stdout",
     "output_type": "stream",
     "text": [
      "Classes weights: [0.1393353 0.8606647]\n"
     ]
    },
    {
     "name": "stderr",
     "output_type": "stream",
     "text": [
      "Evaluation: 100%|██████████| 115/115 [00:06<00:00, 17.65it/s]\n",
      "Epoch 77 / 100: 100%|██████████| 762/762 [00:57<00:00, 13.19it/s]\n"
     ]
    },
    {
     "name": "stdout",
     "output_type": "stream",
     "text": [
      "Classes weights: [0.1393353 0.8606647]\n"
     ]
    },
    {
     "name": "stderr",
     "output_type": "stream",
     "text": [
      "Evaluation: 100%|██████████| 115/115 [00:07<00:00, 16.12it/s]\n",
      "Epoch 78 / 100: 100%|██████████| 762/762 [00:55<00:00, 13.75it/s]\n"
     ]
    },
    {
     "name": "stdout",
     "output_type": "stream",
     "text": [
      "Classes weights: [0.1393353 0.8606647]\n"
     ]
    },
    {
     "name": "stderr",
     "output_type": "stream",
     "text": [
      "Evaluation: 100%|██████████| 115/115 [00:06<00:00, 17.49it/s]\n",
      "Epoch 79 / 100: 100%|██████████| 762/762 [00:57<00:00, 13.23it/s]\n"
     ]
    },
    {
     "name": "stdout",
     "output_type": "stream",
     "text": [
      "Classes weights: [0.1393353 0.8606647]\n"
     ]
    },
    {
     "name": "stderr",
     "output_type": "stream",
     "text": [
      "Evaluation: 100%|██████████| 115/115 [00:06<00:00, 17.67it/s]\n",
      "Epoch 80 / 100: 100%|██████████| 762/762 [00:57<00:00, 13.17it/s]\n"
     ]
    },
    {
     "name": "stdout",
     "output_type": "stream",
     "text": [
      "Classes weights: [0.1393353 0.8606647]\n"
     ]
    },
    {
     "name": "stderr",
     "output_type": "stream",
     "text": [
      "Evaluation: 100%|██████████| 115/115 [00:06<00:00, 17.15it/s]\n",
      "Epoch 81 / 100: 100%|██████████| 762/762 [00:57<00:00, 13.29it/s]\n"
     ]
    },
    {
     "name": "stdout",
     "output_type": "stream",
     "text": [
      "Classes weights: [0.1393353 0.8606647]\n"
     ]
    },
    {
     "name": "stderr",
     "output_type": "stream",
     "text": [
      "Evaluation: 100%|██████████| 115/115 [00:06<00:00, 17.44it/s]\n",
      "Epoch 82 / 100: 100%|██████████| 762/762 [00:57<00:00, 13.24it/s]\n"
     ]
    },
    {
     "name": "stdout",
     "output_type": "stream",
     "text": [
      "Classes weights: [0.1393353 0.8606647]\n"
     ]
    },
    {
     "name": "stderr",
     "output_type": "stream",
     "text": [
      "Evaluation: 100%|██████████| 115/115 [00:06<00:00, 17.47it/s]\n",
      "Epoch 83 / 100: 100%|██████████| 762/762 [00:55<00:00, 13.72it/s]\n"
     ]
    },
    {
     "name": "stdout",
     "output_type": "stream",
     "text": [
      "Classes weights: [0.1393353 0.8606647]\n"
     ]
    },
    {
     "name": "stderr",
     "output_type": "stream",
     "text": [
      "Evaluation: 100%|██████████| 115/115 [00:06<00:00, 17.54it/s]\n",
      "Epoch 84 / 100: 100%|██████████| 762/762 [00:57<00:00, 13.37it/s]\n"
     ]
    },
    {
     "name": "stdout",
     "output_type": "stream",
     "text": [
      "Classes weights: [0.1393353 0.8606647]\n"
     ]
    },
    {
     "name": "stderr",
     "output_type": "stream",
     "text": [
      "Evaluation: 100%|██████████| 115/115 [00:06<00:00, 16.87it/s]\n",
      "Epoch 85 / 100: 100%|██████████| 762/762 [00:57<00:00, 13.29it/s]\n"
     ]
    },
    {
     "name": "stdout",
     "output_type": "stream",
     "text": [
      "Classes weights: [0.1393353 0.8606647]\n"
     ]
    },
    {
     "name": "stderr",
     "output_type": "stream",
     "text": [
      "Evaluation: 100%|██████████| 115/115 [00:06<00:00, 17.28it/s]\n",
      "Epoch 86 / 100: 100%|██████████| 762/762 [00:55<00:00, 13.83it/s]\n"
     ]
    },
    {
     "name": "stdout",
     "output_type": "stream",
     "text": [
      "Classes weights: [0.1393353 0.8606647]\n"
     ]
    },
    {
     "name": "stderr",
     "output_type": "stream",
     "text": [
      "Evaluation: 100%|██████████| 115/115 [00:06<00:00, 17.29it/s]\n",
      "Epoch 87 / 100: 100%|██████████| 762/762 [00:57<00:00, 13.26it/s]\n"
     ]
    },
    {
     "name": "stdout",
     "output_type": "stream",
     "text": [
      "Classes weights: [0.1393353 0.8606647]\n"
     ]
    },
    {
     "name": "stderr",
     "output_type": "stream",
     "text": [
      "Evaluation: 100%|██████████| 115/115 [00:06<00:00, 16.47it/s]\n",
      "Epoch 88 / 100: 100%|██████████| 762/762 [00:57<00:00, 13.25it/s]\n"
     ]
    },
    {
     "name": "stdout",
     "output_type": "stream",
     "text": [
      "Classes weights: [0.1393353 0.8606647]\n"
     ]
    },
    {
     "name": "stderr",
     "output_type": "stream",
     "text": [
      "Evaluation: 100%|██████████| 115/115 [00:06<00:00, 17.56it/s]\n",
      "Epoch 89 / 100: 100%|██████████| 762/762 [00:55<00:00, 13.68it/s]\n"
     ]
    },
    {
     "name": "stdout",
     "output_type": "stream",
     "text": [
      "Classes weights: [0.1393353 0.8606647]\n"
     ]
    },
    {
     "name": "stderr",
     "output_type": "stream",
     "text": [
      "Evaluation: 100%|██████████| 115/115 [00:06<00:00, 17.62it/s]\n",
      "Epoch 90 / 100: 100%|██████████| 762/762 [00:57<00:00, 13.19it/s]\n"
     ]
    },
    {
     "name": "stdout",
     "output_type": "stream",
     "text": [
      "Classes weights: [0.1393353 0.8606647]\n"
     ]
    },
    {
     "name": "stderr",
     "output_type": "stream",
     "text": [
      "Evaluation: 100%|██████████| 115/115 [00:07<00:00, 15.85it/s]\n",
      "Epoch 91 / 100: 100%|██████████| 762/762 [00:57<00:00, 13.31it/s]\n"
     ]
    },
    {
     "name": "stdout",
     "output_type": "stream",
     "text": [
      "Classes weights: [0.1393353 0.8606647]\n"
     ]
    },
    {
     "name": "stderr",
     "output_type": "stream",
     "text": [
      "Evaluation: 100%|██████████| 115/115 [00:06<00:00, 17.76it/s]\n",
      "Epoch 92 / 100: 100%|██████████| 762/762 [00:57<00:00, 13.17it/s]\n"
     ]
    },
    {
     "name": "stdout",
     "output_type": "stream",
     "text": [
      "Classes weights: [0.1393353 0.8606647]\n"
     ]
    },
    {
     "name": "stderr",
     "output_type": "stream",
     "text": [
      "Evaluation: 100%|██████████| 115/115 [00:06<00:00, 17.06it/s]\n",
      "Epoch 93 / 100: 100%|██████████| 762/762 [00:57<00:00, 13.21it/s]\n"
     ]
    },
    {
     "name": "stdout",
     "output_type": "stream",
     "text": [
      "Classes weights: [0.1393353 0.8606647]\n"
     ]
    },
    {
     "name": "stderr",
     "output_type": "stream",
     "text": [
      "Evaluation: 100%|██████████| 115/115 [00:06<00:00, 16.81it/s]\n",
      "Epoch 94 / 100: 100%|██████████| 762/762 [00:55<00:00, 13.72it/s]\n"
     ]
    },
    {
     "name": "stdout",
     "output_type": "stream",
     "text": [
      "Classes weights: [0.1393353 0.8606647]\n"
     ]
    },
    {
     "name": "stderr",
     "output_type": "stream",
     "text": [
      "Evaluation: 100%|██████████| 115/115 [00:06<00:00, 18.00it/s]\n",
      "Epoch 95 / 100: 100%|██████████| 762/762 [00:57<00:00, 13.22it/s]\n"
     ]
    },
    {
     "name": "stdout",
     "output_type": "stream",
     "text": [
      "Classes weights: [0.1393353 0.8606647]\n"
     ]
    },
    {
     "name": "stderr",
     "output_type": "stream",
     "text": [
      "Evaluation: 100%|██████████| 115/115 [00:07<00:00, 15.84it/s]\n",
      "Epoch 96 / 100: 100%|██████████| 762/762 [00:55<00:00, 13.80it/s]\n"
     ]
    },
    {
     "name": "stdout",
     "output_type": "stream",
     "text": [
      "Classes weights: [0.1393353 0.8606647]\n"
     ]
    },
    {
     "name": "stderr",
     "output_type": "stream",
     "text": [
      "Evaluation: 100%|██████████| 115/115 [00:06<00:00, 17.07it/s]\n",
      "Epoch 97 / 100: 100%|██████████| 762/762 [00:57<00:00, 13.16it/s]\n"
     ]
    },
    {
     "name": "stdout",
     "output_type": "stream",
     "text": [
      "Classes weights: [0.1393353 0.8606647]\n"
     ]
    },
    {
     "name": "stderr",
     "output_type": "stream",
     "text": [
      "Evaluation: 100%|██████████| 115/115 [00:06<00:00, 17.76it/s]\n",
      "Epoch 98 / 100: 100%|██████████| 762/762 [00:57<00:00, 13.23it/s]\n"
     ]
    },
    {
     "name": "stdout",
     "output_type": "stream",
     "text": [
      "Classes weights: [0.1393353 0.8606647]\n"
     ]
    },
    {
     "name": "stderr",
     "output_type": "stream",
     "text": [
      "Evaluation: 100%|██████████| 115/115 [00:06<00:00, 16.82it/s]\n",
      "Epoch 99 / 100: 100%|██████████| 762/762 [00:57<00:00, 13.22it/s]\n"
     ]
    },
    {
     "name": "stdout",
     "output_type": "stream",
     "text": [
      "Classes weights: [0.1393353 0.8606647]\n"
     ]
    },
    {
     "name": "stderr",
     "output_type": "stream",
     "text": [
      "Evaluation: 100%|██████████| 115/115 [00:07<00:00, 16.42it/s]\n",
      "\u001b[34m\u001b[1mwandb\u001b[0m: \u001b[32m\u001b[41mERROR\u001b[0m The nbformat package was not found. It is required to save notebook history.\n"
     ]
    },
    {
     "data": {
      "text/html": [],
      "text/plain": [
       "<IPython.core.display.HTML object>"
      ]
     },
     "metadata": {},
     "output_type": "display_data"
    },
    {
     "data": {
      "text/html": [
       "<br>    <style><br>        .wandb-row {<br>            display: flex;<br>            flex-direction: row;<br>            flex-wrap: wrap;<br>            justify-content: flex-start;<br>            width: 100%;<br>        }<br>        .wandb-col {<br>            display: flex;<br>            flex-direction: column;<br>            flex-basis: 100%;<br>            flex: 1;<br>            padding: 10px;<br>        }<br>    </style><br><div class=\"wandb-row\"><div class=\"wandb-col\"><h3>Run history:</h3><br/><table class=\"wandb\"><tr><td>epoch</td><td>▁▁▁▁▁▂▂▂▂▂▃▃▃▃▃▃▃▄▄▄▅▅▅▅▅▆▆▆▆▇▇▇▇▇▇█████</td></tr><tr><td>loss_train</td><td>██▆▅▄▄▄▃▃▃▃▃▃▃▃▃▃▂▃▂▂▂▂▂▂▂▂▂▂▂▂▁▂▁▁▁▁▁▁▁</td></tr><tr><td>loss_val</td><td>▂▁▂▁▂▂▂▂▂▄▃▂▃▂▄▃▃▂▃▃▄▅▃▃▅▄▄▇▅▅▄▇▃▅▆▅▆█▄▆</td></tr><tr><td>recall0</td><td>▁▁▆▆▆▇▆▆▇▆▆▇▇▇▇█▇▇▇▇▇▇▇▇▇▇█▇▇█▇█▇▇███▇██</td></tr><tr><td>recall0_val</td><td>▇▇█▇█▆▅▅▅▆▅▄▅▅▄▄▄▆▅▅▅▄▅▅▅▄▃▂▃▄▅▄▄▄▃▁▁▂▄▃</td></tr><tr><td>recall1</td><td>▁▂▂▄▄▄▅▅▄▄▅▆▆▅▅▅▆▆▆▆▆▇▇▆▇▆▆▇▇▇▇▇█▇▇██▇▇█</td></tr><tr><td>recall1_val</td><td>▄▁▁▄▄▁▄▅▅▃▆▅▆▇▅▅▅▇▅▆▆▆▇▆▇▆▅██▇▄▃▅▇█▇▇▃██</td></tr></table><br/></div><div class=\"wandb-col\"><h3>Run summary:</h3><br/><table class=\"wandb\"><tr><td>epoch</td><td>99</td></tr><tr><td>loss_train</td><td>0.5002</td></tr><tr><td>loss_val</td><td>0.69355</td></tr><tr><td>recall0</td><td>0.7053</td></tr><tr><td>recall0_val</td><td>0.3896</td></tr><tr><td>recall1</td><td>0.80737</td></tr><tr><td>recall1_val</td><td>0.95621</td></tr></table><br/></div></div>"
      ],
      "text/plain": [
       "<IPython.core.display.HTML object>"
      ]
     },
     "metadata": {},
     "output_type": "display_data"
    },
    {
     "data": {
      "text/html": [
       " View run <strong style=\"color:#cdcd00\">dataset2_train_test</strong> at: <a href='https://wandb.ai/tfg_pyh/tfg/runs/s5esw3vy' target=\"_blank\">https://wandb.ai/tfg_pyh/tfg/runs/s5esw3vy</a><br> View project at: <a href='https://wandb.ai/tfg_pyh/tfg' target=\"_blank\">https://wandb.ai/tfg_pyh/tfg</a><br>Synced 5 W&B file(s), 0 media file(s), 0 artifact file(s) and 0 other file(s)"
      ],
      "text/plain": [
       "<IPython.core.display.HTML object>"
      ]
     },
     "metadata": {},
     "output_type": "display_data"
    },
    {
     "data": {
      "text/html": [
       "Find logs at: <code>.\\wandb\\run-20250428_000941-s5esw3vy\\logs</code>"
      ],
      "text/plain": [
       "<IPython.core.display.HTML object>"
      ]
     },
     "metadata": {},
     "output_type": "display_data"
    },
    {
     "data": {
      "text/plain": [
       "{'loss': tensor(0.5456, device='cuda:0', grad_fn=<NllLossBackward0>),\n",
       " 'acc': tensor(0.6667, device='cuda:0'),\n",
       " 'y_prob': tensor([[0.3004, 0.6996],\n",
       "         [0.7449, 0.2551],\n",
       "         [0.9979, 0.0021],\n",
       "         [0.4679, 0.5321],\n",
       "         [0.9860, 0.0140],\n",
       "         [0.9008, 0.0992],\n",
       "         [0.6589, 0.3411],\n",
       "         [0.6000, 0.4000],\n",
       "         [0.2889, 0.7111]], device='cuda:0', grad_fn=<SoftmaxBackward0>),\n",
       " 'y_true': tensor([0, 0, 0, 0, 0, 0, 0, 1, 1], device='cuda:0'),\n",
       " 'logit': tensor([[-0.1900,  0.6553],\n",
       "         [ 0.2094, -0.8623],\n",
       "         [ 3.9596, -2.1944],\n",
       "         [ 0.2590,  0.3877],\n",
       "         [-0.3340, -4.5894],\n",
       "         [-0.7977, -3.0038],\n",
       "         [ 0.1238, -0.5347],\n",
       "         [ 0.2299, -0.1756],\n",
       "         [-0.7199,  0.1808]], device='cuda:0', grad_fn=<AddmmBackward0>),\n",
       " 'classification_report': {'0': {'precision': 0.8333333333333334,\n",
       "   'recall': 0.7142857142857143,\n",
       "   'f1-score': 0.7692307692307693,\n",
       "   'support': 7.0},\n",
       "  '1': {'precision': 0.3333333333333333,\n",
       "   'recall': 0.5,\n",
       "   'f1-score': 0.4,\n",
       "   'support': 2.0},\n",
       "  'accuracy': 0.6666666666666666,\n",
       "  'macro avg': {'precision': 0.5833333333333334,\n",
       "   'recall': 0.6071428571428572,\n",
       "   'f1-score': 0.5846153846153846,\n",
       "   'support': 9.0},\n",
       "  'weighted avg': {'precision': 0.7222222222222223,\n",
       "   'recall': 0.6666666666666666,\n",
       "   'f1-score': 0.6871794871794872,\n",
       "   'support': 9.0}}}"
      ]
     },
     "execution_count": 9,
     "metadata": {},
     "output_type": "execute_result"
    }
   ],
   "source": [
    "\n",
    "\n",
    "\n",
    "model = Transformer(dataset=data, \n",
    "                    feature_keys=[ \"Income\", \"Education\", \"BMI\", \"Age\", \"HighBP\", \"HighChol\", \"CholCheck\",\n",
    "                                \"Stroke\", \"Smoker\", \"Veggies\", \"PhysHlth\", \"CholCheck\", \"HvyAlcoholConsump\",\n",
    "                                \"AnyHealthcare\", \"GenHlth\", \"MentHlth\", \"Sex\",\n",
    "                                \"Fruits\", \"PhysActivity\"],\n",
    "                    label_key=\"Diabetes_binary\", # imagin que es lo que s'ha de predir\n",
    "                    mode=\"binary\", # no hi ha nateja de dataset i posa que hi ha 3 tipus enlloc de ser binari\n",
    "                    embedding_dim=64, merged= False )\n",
    "\n",
    "\n",
    "\n",
    "\n",
    "def collate_fn_dict(batch:List):\n",
    "    return {key: [d[key] for d in batch] for key in batch[0].keys()}\n",
    "train_ds, val_ds, test_ds = split(data, (0.8, 0.2,0))\n",
    "train_loader = DataLoader(data, batch_size=256, shuffle=True,  collate_fn=collate_fn_dict,)\n",
    "val_loader = DataLoader(val_ds, batch_size=256, shuffle=True,  collate_fn=collate_fn_dict,)\n",
    "optimizer_params = {\"lr\": 1e-3}\n",
    "\n",
    "df = data.get_df()\n",
    "\n",
    "labels = df['Diabetes_binary']\n",
    "labels = [ x[0] for x in labels]\n",
    " \n",
    "\n",
    "trainer = Trainer(model=model, exp_name= 'dataset2_train_test' )\n",
    "trainer.train(\n",
    "    train_dataloader=train_loader,\n",
    "    val_dataloader=val_loader,\n",
    "    epochs=100, optimizer_params=optimizer_params , labels = labels, label_key=\"Diabetes_binary\")"
   ]
  },
  {
   "cell_type": "code",
   "execution_count": null,
   "id": "230608ea",
   "metadata": {},
   "outputs": [],
   "source": [
    " mapping = {0: \"Low Chol\", 1: \"High Chol\"}\n",
    "self.df[self.label_key ] = self.df[\"HighChol\" ].map(mapping)"
   ]
  }
 ],
 "metadata": {
  "kernelspec": {
   "display_name": "tfg",
   "language": "python",
   "name": "python3"
  },
  "language_info": {
   "codemirror_mode": {
    "name": "ipython",
    "version": 3
   },
   "file_extension": ".py",
   "mimetype": "text/x-python",
   "name": "python",
   "nbconvert_exporter": "python",
   "pygments_lexer": "ipython3",
   "version": "3.8.10"
  }
 },
 "nbformat": 4,
 "nbformat_minor": 5
}
